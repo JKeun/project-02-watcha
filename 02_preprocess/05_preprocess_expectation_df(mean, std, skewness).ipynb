{
 "cells": [
  {
   "cell_type": "markdown",
   "metadata": {},
   "source": [
    "# 별점분포의 mean, var, skewness 구하기 - expect_df\n",
    "* $\\mu = E[X] = \\sum x \\cdot p(x)$\n",
    "* $\\sigma^2 = E[(X - \\mu)^2] = \\sum (x - \\mu)^2 p(x)$\n",
    "* $\\frac{\\mu_3}{\\sigma^3} = \\operatorname{E}\\left[\\left(\\frac{X-\\mu}{\\sigma}\\right)^3 \\right]$"
   ]
  },
  {
   "cell_type": "code",
   "execution_count": 1,
   "metadata": {
    "collapsed": false,
    "scrolled": true
   },
   "outputs": [
    {
     "data": {
      "text/html": [
       "<div>\n",
       "<table border=\"1\" class=\"dataframe\">\n",
       "  <thead>\n",
       "    <tr style=\"text-align: right;\">\n",
       "      <th></th>\n",
       "      <th>0.5</th>\n",
       "      <th>1</th>\n",
       "      <th>1.5</th>\n",
       "      <th>2</th>\n",
       "      <th>2.5</th>\n",
       "      <th>3</th>\n",
       "      <th>3.5</th>\n",
       "      <th>4</th>\n",
       "      <th>4.5</th>\n",
       "      <th>5</th>\n",
       "    </tr>\n",
       "  </thead>\n",
       "  <tbody>\n",
       "    <tr>\n",
       "      <th>0</th>\n",
       "      <td>7</td>\n",
       "      <td>10</td>\n",
       "      <td>14</td>\n",
       "      <td>83</td>\n",
       "      <td>50</td>\n",
       "      <td>1472</td>\n",
       "      <td>454</td>\n",
       "      <td>4509</td>\n",
       "      <td>4318</td>\n",
       "      <td>2108</td>\n",
       "    </tr>\n",
       "    <tr>\n",
       "      <th>1</th>\n",
       "      <td>1312</td>\n",
       "      <td>2238</td>\n",
       "      <td>2150</td>\n",
       "      <td>6749</td>\n",
       "      <td>6597</td>\n",
       "      <td>9397</td>\n",
       "      <td>16842</td>\n",
       "      <td>1367</td>\n",
       "      <td>9011</td>\n",
       "      <td>2459</td>\n",
       "    </tr>\n",
       "    <tr>\n",
       "      <th>2</th>\n",
       "      <td>228</td>\n",
       "      <td>316</td>\n",
       "      <td>956</td>\n",
       "      <td>1513</td>\n",
       "      <td>2367</td>\n",
       "      <td>7526</td>\n",
       "      <td>9953</td>\n",
       "      <td>7289</td>\n",
       "      <td>21200</td>\n",
       "      <td>14948</td>\n",
       "    </tr>\n",
       "    <tr>\n",
       "      <th>3</th>\n",
       "      <td>3615</td>\n",
       "      <td>4063</td>\n",
       "      <td>5424</td>\n",
       "      <td>8133</td>\n",
       "      <td>11525</td>\n",
       "      <td>6501</td>\n",
       "      <td>17566</td>\n",
       "      <td>765</td>\n",
       "      <td>7099</td>\n",
       "      <td>2340</td>\n",
       "    </tr>\n",
       "    <tr>\n",
       "      <th>4</th>\n",
       "      <td>787</td>\n",
       "      <td>1612</td>\n",
       "      <td>1329</td>\n",
       "      <td>6635</td>\n",
       "      <td>5251</td>\n",
       "      <td>13675</td>\n",
       "      <td>15493</td>\n",
       "      <td>4620</td>\n",
       "      <td>14473</td>\n",
       "      <td>4299</td>\n",
       "    </tr>\n",
       "  </tbody>\n",
       "</table>\n",
       "</div>"
      ],
      "text/plain": [
       "    0.5     1   1.5     2    2.5      3    3.5     4    4.5      5\n",
       "0     7    10    14    83     50   1472    454  4509   4318   2108\n",
       "1  1312  2238  2150  6749   6597   9397  16842  1367   9011   2459\n",
       "2   228   316   956  1513   2367   7526   9953  7289  21200  14948\n",
       "3  3615  4063  5424  8133  11525   6501  17566   765   7099   2340\n",
       "4   787  1612  1329  6635   5251  13675  15493  4620  14473   4299"
      ]
     },
     "execution_count": 1,
     "metadata": {},
     "output_type": "execute_result"
    }
   ],
   "source": [
    "df = pd.read_csv('../resource/preprocess_dist_df.csv')\n",
    "col = df.columns.astype(float).values\n",
    "df.head()"
   ]
  },
  {
   "cell_type": "markdown",
   "metadata": {},
   "source": [
    "### 별점분포의 X_count\n"
   ]
  },
  {
   "cell_type": "code",
   "execution_count": 2,
   "metadata": {
    "collapsed": false
   },
   "outputs": [
    {
     "data": {
      "text/html": [
       "<div>\n",
       "<table border=\"1\" class=\"dataframe\">\n",
       "  <thead>\n",
       "    <tr style=\"text-align: right;\">\n",
       "      <th></th>\n",
       "      <th>0.5</th>\n",
       "      <th>1</th>\n",
       "      <th>1.5</th>\n",
       "      <th>2</th>\n",
       "      <th>2.5</th>\n",
       "      <th>3</th>\n",
       "      <th>3.5</th>\n",
       "      <th>4</th>\n",
       "      <th>4.5</th>\n",
       "      <th>5</th>\n",
       "      <th>sum</th>\n",
       "    </tr>\n",
       "  </thead>\n",
       "  <tbody>\n",
       "    <tr>\n",
       "      <th>0</th>\n",
       "      <td>7</td>\n",
       "      <td>10</td>\n",
       "      <td>14</td>\n",
       "      <td>83</td>\n",
       "      <td>50</td>\n",
       "      <td>1472</td>\n",
       "      <td>454</td>\n",
       "      <td>4509</td>\n",
       "      <td>4318</td>\n",
       "      <td>2108</td>\n",
       "      <td>13025</td>\n",
       "    </tr>\n",
       "    <tr>\n",
       "      <th>1</th>\n",
       "      <td>1312</td>\n",
       "      <td>2238</td>\n",
       "      <td>2150</td>\n",
       "      <td>6749</td>\n",
       "      <td>6597</td>\n",
       "      <td>9397</td>\n",
       "      <td>16842</td>\n",
       "      <td>1367</td>\n",
       "      <td>9011</td>\n",
       "      <td>2459</td>\n",
       "      <td>58122</td>\n",
       "    </tr>\n",
       "    <tr>\n",
       "      <th>2</th>\n",
       "      <td>228</td>\n",
       "      <td>316</td>\n",
       "      <td>956</td>\n",
       "      <td>1513</td>\n",
       "      <td>2367</td>\n",
       "      <td>7526</td>\n",
       "      <td>9953</td>\n",
       "      <td>7289</td>\n",
       "      <td>21200</td>\n",
       "      <td>14948</td>\n",
       "      <td>66296</td>\n",
       "    </tr>\n",
       "    <tr>\n",
       "      <th>3</th>\n",
       "      <td>3615</td>\n",
       "      <td>4063</td>\n",
       "      <td>5424</td>\n",
       "      <td>8133</td>\n",
       "      <td>11525</td>\n",
       "      <td>6501</td>\n",
       "      <td>17566</td>\n",
       "      <td>765</td>\n",
       "      <td>7099</td>\n",
       "      <td>2340</td>\n",
       "      <td>67031</td>\n",
       "    </tr>\n",
       "    <tr>\n",
       "      <th>4</th>\n",
       "      <td>787</td>\n",
       "      <td>1612</td>\n",
       "      <td>1329</td>\n",
       "      <td>6635</td>\n",
       "      <td>5251</td>\n",
       "      <td>13675</td>\n",
       "      <td>15493</td>\n",
       "      <td>4620</td>\n",
       "      <td>14473</td>\n",
       "      <td>4299</td>\n",
       "      <td>68174</td>\n",
       "    </tr>\n",
       "  </tbody>\n",
       "</table>\n",
       "</div>"
      ],
      "text/plain": [
       "    0.5     1   1.5     2    2.5      3    3.5     4    4.5      5    sum\n",
       "0     7    10    14    83     50   1472    454  4509   4318   2108  13025\n",
       "1  1312  2238  2150  6749   6597   9397  16842  1367   9011   2459  58122\n",
       "2   228   316   956  1513   2367   7526   9953  7289  21200  14948  66296\n",
       "3  3615  4063  5424  8133  11525   6501  17566   765   7099   2340  67031\n",
       "4   787  1612  1329  6635   5251  13675  15493  4620  14473   4299  68174"
      ]
     },
     "execution_count": 2,
     "metadata": {},
     "output_type": "execute_result"
    }
   ],
   "source": [
    "df['sum'] = df.sum(axis=1)\n",
    "df.head()"
   ]
  },
  {
   "cell_type": "markdown",
   "metadata": {},
   "source": [
    "### $p(X)$"
   ]
  },
  {
   "cell_type": "code",
   "execution_count": 3,
   "metadata": {
    "collapsed": false
   },
   "outputs": [
    {
     "data": {
      "text/plain": [
       "0.022573208079556796"
      ]
     },
     "execution_count": 3,
     "metadata": {},
     "output_type": "execute_result"
    }
   ],
   "source": [
    "1312 / 58122"
   ]
  },
  {
   "cell_type": "code",
   "execution_count": 4,
   "metadata": {
    "collapsed": false
   },
   "outputs": [
    {
     "data": {
      "text/html": [
       "<div>\n",
       "<table border=\"1\" class=\"dataframe\">\n",
       "  <thead>\n",
       "    <tr style=\"text-align: right;\">\n",
       "      <th></th>\n",
       "      <th>0.5</th>\n",
       "      <th>1</th>\n",
       "      <th>1.5</th>\n",
       "      <th>2</th>\n",
       "      <th>2.5</th>\n",
       "      <th>3</th>\n",
       "      <th>3.5</th>\n",
       "      <th>4</th>\n",
       "      <th>4.5</th>\n",
       "      <th>5</th>\n",
       "    </tr>\n",
       "  </thead>\n",
       "  <tbody>\n",
       "    <tr>\n",
       "      <th>0</th>\n",
       "      <td>0.000537</td>\n",
       "      <td>0.000768</td>\n",
       "      <td>0.001075</td>\n",
       "      <td>0.006372</td>\n",
       "      <td>0.003839</td>\n",
       "      <td>0.113013</td>\n",
       "      <td>0.034856</td>\n",
       "      <td>0.346180</td>\n",
       "      <td>0.331516</td>\n",
       "      <td>0.161843</td>\n",
       "    </tr>\n",
       "    <tr>\n",
       "      <th>1</th>\n",
       "      <td>0.022573</td>\n",
       "      <td>0.038505</td>\n",
       "      <td>0.036991</td>\n",
       "      <td>0.116118</td>\n",
       "      <td>0.113503</td>\n",
       "      <td>0.161677</td>\n",
       "      <td>0.289770</td>\n",
       "      <td>0.023519</td>\n",
       "      <td>0.155036</td>\n",
       "      <td>0.042308</td>\n",
       "    </tr>\n",
       "    <tr>\n",
       "      <th>2</th>\n",
       "      <td>0.003439</td>\n",
       "      <td>0.004767</td>\n",
       "      <td>0.014420</td>\n",
       "      <td>0.022822</td>\n",
       "      <td>0.035704</td>\n",
       "      <td>0.113521</td>\n",
       "      <td>0.150130</td>\n",
       "      <td>0.109946</td>\n",
       "      <td>0.319778</td>\n",
       "      <td>0.225474</td>\n",
       "    </tr>\n",
       "    <tr>\n",
       "      <th>3</th>\n",
       "      <td>0.053930</td>\n",
       "      <td>0.060614</td>\n",
       "      <td>0.080918</td>\n",
       "      <td>0.121332</td>\n",
       "      <td>0.171935</td>\n",
       "      <td>0.096985</td>\n",
       "      <td>0.262058</td>\n",
       "      <td>0.011413</td>\n",
       "      <td>0.105906</td>\n",
       "      <td>0.034909</td>\n",
       "    </tr>\n",
       "    <tr>\n",
       "      <th>4</th>\n",
       "      <td>0.011544</td>\n",
       "      <td>0.023645</td>\n",
       "      <td>0.019494</td>\n",
       "      <td>0.097324</td>\n",
       "      <td>0.077023</td>\n",
       "      <td>0.200590</td>\n",
       "      <td>0.227257</td>\n",
       "      <td>0.067768</td>\n",
       "      <td>0.212295</td>\n",
       "      <td>0.063059</td>\n",
       "    </tr>\n",
       "  </tbody>\n",
       "</table>\n",
       "</div>"
      ],
      "text/plain": [
       "        0.5         1       1.5         2       2.5         3       3.5  \\\n",
       "0  0.000537  0.000768  0.001075  0.006372  0.003839  0.113013  0.034856   \n",
       "1  0.022573  0.038505  0.036991  0.116118  0.113503  0.161677  0.289770   \n",
       "2  0.003439  0.004767  0.014420  0.022822  0.035704  0.113521  0.150130   \n",
       "3  0.053930  0.060614  0.080918  0.121332  0.171935  0.096985  0.262058   \n",
       "4  0.011544  0.023645  0.019494  0.097324  0.077023  0.200590  0.227257   \n",
       "\n",
       "          4       4.5         5  \n",
       "0  0.346180  0.331516  0.161843  \n",
       "1  0.023519  0.155036  0.042308  \n",
       "2  0.109946  0.319778  0.225474  \n",
       "3  0.011413  0.105906  0.034909  \n",
       "4  0.067768  0.212295  0.063059  "
      ]
     },
     "execution_count": 4,
     "metadata": {},
     "output_type": "execute_result"
    }
   ],
   "source": [
    "# p(X)\n",
    "prob_df = df.ix[:,:'5'].apply(lambda x: x / df['sum'])\n",
    "prob_df.head()"
   ]
  },
  {
   "cell_type": "markdown",
   "metadata": {},
   "source": [
    "### $ x \\cdot p(x)$"
   ]
  },
  {
   "cell_type": "code",
   "execution_count": 5,
   "metadata": {
    "collapsed": false
   },
   "outputs": [
    {
     "data": {
      "text/plain": [
       "array([ 0.5,  1. ,  1.5,  2. ,  2.5,  3. ,  3.5,  4. ,  4.5,  5. ])"
      ]
     },
     "execution_count": 5,
     "metadata": {},
     "output_type": "execute_result"
    }
   ],
   "source": [
    "col"
   ]
  },
  {
   "cell_type": "code",
   "execution_count": 6,
   "metadata": {
    "collapsed": false
   },
   "outputs": [
    {
     "data": {
      "text/html": [
       "<div>\n",
       "<table border=\"1\" class=\"dataframe\">\n",
       "  <thead>\n",
       "    <tr style=\"text-align: right;\">\n",
       "      <th></th>\n",
       "      <th>0.5</th>\n",
       "      <th>1</th>\n",
       "      <th>1.5</th>\n",
       "      <th>2</th>\n",
       "      <th>2.5</th>\n",
       "      <th>3</th>\n",
       "      <th>3.5</th>\n",
       "      <th>4</th>\n",
       "      <th>4.5</th>\n",
       "      <th>5</th>\n",
       "    </tr>\n",
       "  </thead>\n",
       "  <tbody>\n",
       "    <tr>\n",
       "      <th>0</th>\n",
       "      <td>0.000269</td>\n",
       "      <td>0.000768</td>\n",
       "      <td>0.001612</td>\n",
       "      <td>0.012745</td>\n",
       "      <td>0.009597</td>\n",
       "      <td>0.339040</td>\n",
       "      <td>0.121996</td>\n",
       "      <td>1.384722</td>\n",
       "      <td>1.491823</td>\n",
       "      <td>0.809213</td>\n",
       "    </tr>\n",
       "    <tr>\n",
       "      <th>1</th>\n",
       "      <td>0.011287</td>\n",
       "      <td>0.038505</td>\n",
       "      <td>0.055487</td>\n",
       "      <td>0.232236</td>\n",
       "      <td>0.283757</td>\n",
       "      <td>0.485031</td>\n",
       "      <td>1.014194</td>\n",
       "      <td>0.094078</td>\n",
       "      <td>0.697662</td>\n",
       "      <td>0.211538</td>\n",
       "    </tr>\n",
       "    <tr>\n",
       "      <th>2</th>\n",
       "      <td>0.001720</td>\n",
       "      <td>0.004767</td>\n",
       "      <td>0.021630</td>\n",
       "      <td>0.045644</td>\n",
       "      <td>0.089259</td>\n",
       "      <td>0.340564</td>\n",
       "      <td>0.525454</td>\n",
       "      <td>0.439785</td>\n",
       "      <td>1.439001</td>\n",
       "      <td>1.127368</td>\n",
       "    </tr>\n",
       "    <tr>\n",
       "      <th>3</th>\n",
       "      <td>0.026965</td>\n",
       "      <td>0.060614</td>\n",
       "      <td>0.121377</td>\n",
       "      <td>0.242664</td>\n",
       "      <td>0.429838</td>\n",
       "      <td>0.290955</td>\n",
       "      <td>0.917202</td>\n",
       "      <td>0.045651</td>\n",
       "      <td>0.476578</td>\n",
       "      <td>0.174546</td>\n",
       "    </tr>\n",
       "    <tr>\n",
       "      <th>4</th>\n",
       "      <td>0.005772</td>\n",
       "      <td>0.023645</td>\n",
       "      <td>0.029241</td>\n",
       "      <td>0.194649</td>\n",
       "      <td>0.192559</td>\n",
       "      <td>0.601769</td>\n",
       "      <td>0.795399</td>\n",
       "      <td>0.271071</td>\n",
       "      <td>0.955328</td>\n",
       "      <td>0.315296</td>\n",
       "    </tr>\n",
       "  </tbody>\n",
       "</table>\n",
       "</div>"
      ],
      "text/plain": [
       "        0.5         1       1.5         2       2.5         3       3.5  \\\n",
       "0  0.000269  0.000768  0.001612  0.012745  0.009597  0.339040  0.121996   \n",
       "1  0.011287  0.038505  0.055487  0.232236  0.283757  0.485031  1.014194   \n",
       "2  0.001720  0.004767  0.021630  0.045644  0.089259  0.340564  0.525454   \n",
       "3  0.026965  0.060614  0.121377  0.242664  0.429838  0.290955  0.917202   \n",
       "4  0.005772  0.023645  0.029241  0.194649  0.192559  0.601769  0.795399   \n",
       "\n",
       "          4       4.5         5  \n",
       "0  1.384722  1.491823  0.809213  \n",
       "1  0.094078  0.697662  0.211538  \n",
       "2  0.439785  1.439001  1.127368  \n",
       "3  0.045651  0.476578  0.174546  \n",
       "4  0.271071  0.955328  0.315296  "
      ]
     },
     "execution_count": 6,
     "metadata": {},
     "output_type": "execute_result"
    }
   ],
   "source": [
    "# X*p(X)\n",
    "Xprob_df = prob_df.mul(col)\n",
    "Xprob_df.head()"
   ]
  },
  {
   "cell_type": "markdown",
   "metadata": {},
   "source": [
    "### mean : $\\mu = E[X] = \\sum x \\cdot p(x)$"
   ]
  },
  {
   "cell_type": "code",
   "execution_count": 7,
   "metadata": {
    "collapsed": false
   },
   "outputs": [
    {
     "data": {
      "text/plain": [
       "0    4.171785\n",
       "1    3.123774\n",
       "2    4.035191\n",
       "3    2.786390\n",
       "4    3.384729\n",
       "dtype: float64"
      ]
     },
     "execution_count": 7,
     "metadata": {},
     "output_type": "execute_result"
    }
   ],
   "source": [
    "mean = Xprob_df.sum(axis=1)\n",
    "mean.head()"
   ]
  },
  {
   "cell_type": "code",
   "execution_count": 8,
   "metadata": {
    "collapsed": false
   },
   "outputs": [
    {
     "data": {
      "text/html": [
       "<div>\n",
       "<table border=\"1\" class=\"dataframe\">\n",
       "  <thead>\n",
       "    <tr style=\"text-align: right;\">\n",
       "      <th></th>\n",
       "      <th>0.5</th>\n",
       "      <th>1</th>\n",
       "      <th>1.5</th>\n",
       "      <th>2</th>\n",
       "      <th>2.5</th>\n",
       "      <th>3</th>\n",
       "      <th>3.5</th>\n",
       "      <th>4</th>\n",
       "      <th>4.5</th>\n",
       "      <th>5</th>\n",
       "      <th>mean</th>\n",
       "    </tr>\n",
       "  </thead>\n",
       "  <tbody>\n",
       "    <tr>\n",
       "      <th>0</th>\n",
       "      <td>0.000537</td>\n",
       "      <td>0.000768</td>\n",
       "      <td>0.001075</td>\n",
       "      <td>0.006372</td>\n",
       "      <td>0.003839</td>\n",
       "      <td>0.113013</td>\n",
       "      <td>0.034856</td>\n",
       "      <td>0.346180</td>\n",
       "      <td>0.331516</td>\n",
       "      <td>0.161843</td>\n",
       "      <td>4.171785</td>\n",
       "    </tr>\n",
       "    <tr>\n",
       "      <th>1</th>\n",
       "      <td>0.022573</td>\n",
       "      <td>0.038505</td>\n",
       "      <td>0.036991</td>\n",
       "      <td>0.116118</td>\n",
       "      <td>0.113503</td>\n",
       "      <td>0.161677</td>\n",
       "      <td>0.289770</td>\n",
       "      <td>0.023519</td>\n",
       "      <td>0.155036</td>\n",
       "      <td>0.042308</td>\n",
       "      <td>3.123774</td>\n",
       "    </tr>\n",
       "    <tr>\n",
       "      <th>2</th>\n",
       "      <td>0.003439</td>\n",
       "      <td>0.004767</td>\n",
       "      <td>0.014420</td>\n",
       "      <td>0.022822</td>\n",
       "      <td>0.035704</td>\n",
       "      <td>0.113521</td>\n",
       "      <td>0.150130</td>\n",
       "      <td>0.109946</td>\n",
       "      <td>0.319778</td>\n",
       "      <td>0.225474</td>\n",
       "      <td>4.035191</td>\n",
       "    </tr>\n",
       "    <tr>\n",
       "      <th>3</th>\n",
       "      <td>0.053930</td>\n",
       "      <td>0.060614</td>\n",
       "      <td>0.080918</td>\n",
       "      <td>0.121332</td>\n",
       "      <td>0.171935</td>\n",
       "      <td>0.096985</td>\n",
       "      <td>0.262058</td>\n",
       "      <td>0.011413</td>\n",
       "      <td>0.105906</td>\n",
       "      <td>0.034909</td>\n",
       "      <td>2.786390</td>\n",
       "    </tr>\n",
       "    <tr>\n",
       "      <th>4</th>\n",
       "      <td>0.011544</td>\n",
       "      <td>0.023645</td>\n",
       "      <td>0.019494</td>\n",
       "      <td>0.097324</td>\n",
       "      <td>0.077023</td>\n",
       "      <td>0.200590</td>\n",
       "      <td>0.227257</td>\n",
       "      <td>0.067768</td>\n",
       "      <td>0.212295</td>\n",
       "      <td>0.063059</td>\n",
       "      <td>3.384729</td>\n",
       "    </tr>\n",
       "  </tbody>\n",
       "</table>\n",
       "</div>"
      ],
      "text/plain": [
       "        0.5         1       1.5         2       2.5         3       3.5  \\\n",
       "0  0.000537  0.000768  0.001075  0.006372  0.003839  0.113013  0.034856   \n",
       "1  0.022573  0.038505  0.036991  0.116118  0.113503  0.161677  0.289770   \n",
       "2  0.003439  0.004767  0.014420  0.022822  0.035704  0.113521  0.150130   \n",
       "3  0.053930  0.060614  0.080918  0.121332  0.171935  0.096985  0.262058   \n",
       "4  0.011544  0.023645  0.019494  0.097324  0.077023  0.200590  0.227257   \n",
       "\n",
       "          4       4.5         5      mean  \n",
       "0  0.346180  0.331516  0.161843  4.171785  \n",
       "1  0.023519  0.155036  0.042308  3.123774  \n",
       "2  0.109946  0.319778  0.225474  4.035191  \n",
       "3  0.011413  0.105906  0.034909  2.786390  \n",
       "4  0.067768  0.212295  0.063059  3.384729  "
      ]
     },
     "execution_count": 8,
     "metadata": {},
     "output_type": "execute_result"
    }
   ],
   "source": [
    "prob_df['mean'] = Xprob_df.sum(axis=1)\n",
    "prob_df.head()"
   ]
  },
  {
   "cell_type": "markdown",
   "metadata": {},
   "source": [
    "### std : $   \\sigma = {\\sqrt \\sigma^2},(\\sigma^2 = E[(X - \\mu)^2] = \\sum (x - \\mu)^2 p(x))     $"
   ]
  },
  {
   "cell_type": "code",
   "execution_count": 9,
   "metadata": {
    "collapsed": false
   },
   "outputs": [
    {
     "data": {
      "text/html": [
       "<div>\n",
       "<table border=\"1\" class=\"dataframe\">\n",
       "  <thead>\n",
       "    <tr style=\"text-align: right;\">\n",
       "      <th></th>\n",
       "      <th>0.5</th>\n",
       "      <th>1.0</th>\n",
       "      <th>1.5</th>\n",
       "      <th>2.0</th>\n",
       "      <th>2.5</th>\n",
       "      <th>3.0</th>\n",
       "      <th>3.5</th>\n",
       "      <th>4.0</th>\n",
       "      <th>4.5</th>\n",
       "      <th>5.0</th>\n",
       "    </tr>\n",
       "  </thead>\n",
       "  <tbody>\n",
       "    <tr>\n",
       "      <th>0</th>\n",
       "      <td>-3.671785</td>\n",
       "      <td>-3.171785</td>\n",
       "      <td>-2.671785</td>\n",
       "      <td>-2.171785</td>\n",
       "      <td>-1.671785</td>\n",
       "      <td>-1.171785</td>\n",
       "      <td>-0.671785</td>\n",
       "      <td>-0.171785</td>\n",
       "      <td>0.328215</td>\n",
       "      <td>0.828215</td>\n",
       "    </tr>\n",
       "    <tr>\n",
       "      <th>1</th>\n",
       "      <td>-2.623774</td>\n",
       "      <td>-2.123774</td>\n",
       "      <td>-1.623774</td>\n",
       "      <td>-1.123774</td>\n",
       "      <td>-0.623774</td>\n",
       "      <td>-0.123774</td>\n",
       "      <td>0.376226</td>\n",
       "      <td>0.876226</td>\n",
       "      <td>1.376226</td>\n",
       "      <td>1.876226</td>\n",
       "    </tr>\n",
       "    <tr>\n",
       "      <th>2</th>\n",
       "      <td>-3.535191</td>\n",
       "      <td>-3.035191</td>\n",
       "      <td>-2.535191</td>\n",
       "      <td>-2.035191</td>\n",
       "      <td>-1.535191</td>\n",
       "      <td>-1.035191</td>\n",
       "      <td>-0.535191</td>\n",
       "      <td>-0.035191</td>\n",
       "      <td>0.464809</td>\n",
       "      <td>0.964809</td>\n",
       "    </tr>\n",
       "    <tr>\n",
       "      <th>3</th>\n",
       "      <td>-2.286390</td>\n",
       "      <td>-1.786390</td>\n",
       "      <td>-1.286390</td>\n",
       "      <td>-0.786390</td>\n",
       "      <td>-0.286390</td>\n",
       "      <td>0.213610</td>\n",
       "      <td>0.713610</td>\n",
       "      <td>1.213610</td>\n",
       "      <td>1.713610</td>\n",
       "      <td>2.213610</td>\n",
       "    </tr>\n",
       "    <tr>\n",
       "      <th>4</th>\n",
       "      <td>-2.884729</td>\n",
       "      <td>-2.384729</td>\n",
       "      <td>-1.884729</td>\n",
       "      <td>-1.384729</td>\n",
       "      <td>-0.884729</td>\n",
       "      <td>-0.384729</td>\n",
       "      <td>0.115271</td>\n",
       "      <td>0.615271</td>\n",
       "      <td>1.115271</td>\n",
       "      <td>1.615271</td>\n",
       "    </tr>\n",
       "  </tbody>\n",
       "</table>\n",
       "</div>"
      ],
      "text/plain": [
       "        0.5       1.0       1.5       2.0       2.5       3.0       3.5  \\\n",
       "0 -3.671785 -3.171785 -2.671785 -2.171785 -1.671785 -1.171785 -0.671785   \n",
       "1 -2.623774 -2.123774 -1.623774 -1.123774 -0.623774 -0.123774  0.376226   \n",
       "2 -3.535191 -3.035191 -2.535191 -2.035191 -1.535191 -1.035191 -0.535191   \n",
       "3 -2.286390 -1.786390 -1.286390 -0.786390 -0.286390  0.213610  0.713610   \n",
       "4 -2.884729 -2.384729 -1.884729 -1.384729 -0.884729 -0.384729  0.115271   \n",
       "\n",
       "        4.0       4.5       5.0  \n",
       "0 -0.171785  0.328215  0.828215  \n",
       "1  0.876226  1.376226  1.876226  \n",
       "2 -0.035191  0.464809  0.964809  \n",
       "3  1.213610  1.713610  2.213610  \n",
       "4  0.615271  1.115271  1.615271  "
      ]
     },
     "execution_count": 9,
     "metadata": {},
     "output_type": "execute_result"
    }
   ],
   "source": [
    "# (X - u)\n",
    "sub_df = pd.DataFrame(columns = col)\n",
    "for index, row in prob_df.iterrows():\n",
    "    sub = col - row['mean']\n",
    "    sub_df.loc[len(sub_df)] = sub\n",
    "sub_df.head()"
   ]
  },
  {
   "cell_type": "code",
   "execution_count": 10,
   "metadata": {
    "collapsed": false
   },
   "outputs": [
    {
     "data": {
      "text/html": [
       "<div>\n",
       "<table border=\"1\" class=\"dataframe\">\n",
       "  <thead>\n",
       "    <tr style=\"text-align: right;\">\n",
       "      <th></th>\n",
       "      <th>0.5</th>\n",
       "      <th>1.0</th>\n",
       "      <th>1.5</th>\n",
       "      <th>2.0</th>\n",
       "      <th>2.5</th>\n",
       "      <th>3.0</th>\n",
       "      <th>3.5</th>\n",
       "      <th>4.0</th>\n",
       "      <th>4.5</th>\n",
       "      <th>5.0</th>\n",
       "    </tr>\n",
       "  </thead>\n",
       "  <tbody>\n",
       "    <tr>\n",
       "      <th>0</th>\n",
       "      <td>13.482005</td>\n",
       "      <td>10.060220</td>\n",
       "      <td>7.138435</td>\n",
       "      <td>4.716650</td>\n",
       "      <td>2.794865</td>\n",
       "      <td>1.373080</td>\n",
       "      <td>0.451295</td>\n",
       "      <td>0.029510</td>\n",
       "      <td>0.107725</td>\n",
       "      <td>0.685940</td>\n",
       "    </tr>\n",
       "    <tr>\n",
       "      <th>1</th>\n",
       "      <td>6.884191</td>\n",
       "      <td>4.510417</td>\n",
       "      <td>2.636642</td>\n",
       "      <td>1.262868</td>\n",
       "      <td>0.389094</td>\n",
       "      <td>0.015320</td>\n",
       "      <td>0.141546</td>\n",
       "      <td>0.767772</td>\n",
       "      <td>1.893998</td>\n",
       "      <td>3.520224</td>\n",
       "    </tr>\n",
       "    <tr>\n",
       "      <th>2</th>\n",
       "      <td>12.497573</td>\n",
       "      <td>9.212382</td>\n",
       "      <td>6.427192</td>\n",
       "      <td>4.142001</td>\n",
       "      <td>2.356810</td>\n",
       "      <td>1.071620</td>\n",
       "      <td>0.286429</td>\n",
       "      <td>0.001238</td>\n",
       "      <td>0.216048</td>\n",
       "      <td>0.930857</td>\n",
       "    </tr>\n",
       "    <tr>\n",
       "      <th>3</th>\n",
       "      <td>5.227579</td>\n",
       "      <td>3.191189</td>\n",
       "      <td>1.654799</td>\n",
       "      <td>0.618409</td>\n",
       "      <td>0.082019</td>\n",
       "      <td>0.045629</td>\n",
       "      <td>0.509239</td>\n",
       "      <td>1.472850</td>\n",
       "      <td>2.936460</td>\n",
       "      <td>4.900070</td>\n",
       "    </tr>\n",
       "    <tr>\n",
       "      <th>4</th>\n",
       "      <td>8.321660</td>\n",
       "      <td>5.686931</td>\n",
       "      <td>3.552203</td>\n",
       "      <td>1.917474</td>\n",
       "      <td>0.782745</td>\n",
       "      <td>0.148016</td>\n",
       "      <td>0.013287</td>\n",
       "      <td>0.378559</td>\n",
       "      <td>1.243830</td>\n",
       "      <td>2.609101</td>\n",
       "    </tr>\n",
       "  </tbody>\n",
       "</table>\n",
       "</div>"
      ],
      "text/plain": [
       "         0.5        1.0       1.5       2.0       2.5       3.0       3.5  \\\n",
       "0  13.482005  10.060220  7.138435  4.716650  2.794865  1.373080  0.451295   \n",
       "1   6.884191   4.510417  2.636642  1.262868  0.389094  0.015320  0.141546   \n",
       "2  12.497573   9.212382  6.427192  4.142001  2.356810  1.071620  0.286429   \n",
       "3   5.227579   3.191189  1.654799  0.618409  0.082019  0.045629  0.509239   \n",
       "4   8.321660   5.686931  3.552203  1.917474  0.782745  0.148016  0.013287   \n",
       "\n",
       "        4.0       4.5       5.0  \n",
       "0  0.029510  0.107725  0.685940  \n",
       "1  0.767772  1.893998  3.520224  \n",
       "2  0.001238  0.216048  0.930857  \n",
       "3  1.472850  2.936460  4.900070  \n",
       "4  0.378559  1.243830  2.609101  "
      ]
     },
     "execution_count": 10,
     "metadata": {},
     "output_type": "execute_result"
    }
   ],
   "source": [
    "# (X - u)^2\n",
    "sub2_df = sub_df.applymap(lambda x: x*x)\n",
    "sub2_df.head()"
   ]
  },
  {
   "cell_type": "code",
   "execution_count": 11,
   "metadata": {
    "collapsed": false
   },
   "outputs": [
    {
     "data": {
      "text/plain": [
       "0.007239836685"
      ]
     },
     "execution_count": 11,
     "metadata": {},
     "output_type": "execute_result"
    }
   ],
   "source": [
    "13.482005*0.000537"
   ]
  },
  {
   "cell_type": "code",
   "execution_count": 12,
   "metadata": {
    "collapsed": false,
    "scrolled": true
   },
   "outputs": [
    {
     "data": {
      "text/plain": [
       "0    0.391277\n",
       "1    1.121530\n",
       "2    0.802008\n",
       "3    1.335124\n",
       "4    1.033640\n",
       "dtype: float64"
      ]
     },
     "execution_count": 12,
     "metadata": {},
     "output_type": "execute_result"
    }
   ],
   "source": [
    "# var(X) = (X - u)^2 * p(X)\n",
    "var = sub2_df.mul(prob_df.ix[:,:'5']).sum(axis=1)\n",
    "var.head()"
   ]
  },
  {
   "cell_type": "code",
   "execution_count": 13,
   "metadata": {
    "collapsed": false
   },
   "outputs": [
    {
     "data": {
      "text/plain": [
       "1.0590231347803503"
      ]
     },
     "execution_count": 13,
     "metadata": {},
     "output_type": "execute_result"
    }
   ],
   "source": [
    "np.sqrt(1.121530)"
   ]
  },
  {
   "cell_type": "code",
   "execution_count": 14,
   "metadata": {
    "collapsed": false
   },
   "outputs": [
    {
     "data": {
      "text/plain": [
       "0    0.625521\n",
       "1    1.059023\n",
       "2    0.895549\n",
       "3    1.155476\n",
       "4    1.016681\n",
       "dtype: float64"
      ]
     },
     "execution_count": 14,
     "metadata": {},
     "output_type": "execute_result"
    }
   ],
   "source": [
    "std = var.map(np.sqrt)\n",
    "std.head()"
   ]
  },
  {
   "cell_type": "markdown",
   "metadata": {},
   "source": [
    "### skewness : $\\frac{\\mu_3}{\\sigma^3} = \\operatorname{E}\\left[\\left(\\frac{X-\\mu}{\\sigma}\\right)^3 \\right]$"
   ]
  },
  {
   "cell_type": "code",
   "execution_count": 15,
   "metadata": {
    "collapsed": false
   },
   "outputs": [
    {
     "data": {
      "text/html": [
       "<div>\n",
       "<table border=\"1\" class=\"dataframe\">\n",
       "  <thead>\n",
       "    <tr style=\"text-align: right;\">\n",
       "      <th></th>\n",
       "      <th>0.5</th>\n",
       "      <th>1.0</th>\n",
       "      <th>1.5</th>\n",
       "      <th>2.0</th>\n",
       "      <th>2.5</th>\n",
       "      <th>3.0</th>\n",
       "      <th>3.5</th>\n",
       "      <th>4.0</th>\n",
       "      <th>4.5</th>\n",
       "      <th>5.0</th>\n",
       "    </tr>\n",
       "  </thead>\n",
       "  <tbody>\n",
       "    <tr>\n",
       "      <th>0</th>\n",
       "      <td>-49.503025</td>\n",
       "      <td>-31.908856</td>\n",
       "      <td>-19.072364</td>\n",
       "      <td>-10.243550</td>\n",
       "      <td>-4.672414</td>\n",
       "      <td>-1.608955</td>\n",
       "      <td>-0.303173</td>\n",
       "      <td>-0.005069</td>\n",
       "      <td>0.035357</td>\n",
       "      <td>0.568106</td>\n",
       "    </tr>\n",
       "    <tr>\n",
       "      <th>1</th>\n",
       "      <td>-18.062561</td>\n",
       "      <td>-9.579106</td>\n",
       "      <td>-4.281312</td>\n",
       "      <td>-1.419179</td>\n",
       "      <td>-0.242707</td>\n",
       "      <td>-0.001896</td>\n",
       "      <td>0.053253</td>\n",
       "      <td>0.672741</td>\n",
       "      <td>2.606569</td>\n",
       "      <td>6.604734</td>\n",
       "    </tr>\n",
       "    <tr>\n",
       "      <th>2</th>\n",
       "      <td>-44.181303</td>\n",
       "      <td>-27.961337</td>\n",
       "      <td>-16.294156</td>\n",
       "      <td>-8.429762</td>\n",
       "      <td>-3.618153</td>\n",
       "      <td>-1.109331</td>\n",
       "      <td>-0.153294</td>\n",
       "      <td>-0.000044</td>\n",
       "      <td>0.100421</td>\n",
       "      <td>0.898100</td>\n",
       "    </tr>\n",
       "    <tr>\n",
       "      <th>3</th>\n",
       "      <td>-11.952283</td>\n",
       "      <td>-5.700707</td>\n",
       "      <td>-2.128717</td>\n",
       "      <td>-0.486311</td>\n",
       "      <td>-0.023489</td>\n",
       "      <td>0.009747</td>\n",
       "      <td>0.363398</td>\n",
       "      <td>1.787465</td>\n",
       "      <td>5.031947</td>\n",
       "      <td>10.846844</td>\n",
       "    </tr>\n",
       "    <tr>\n",
       "      <th>4</th>\n",
       "      <td>-24.005733</td>\n",
       "      <td>-13.561789</td>\n",
       "      <td>-6.694938</td>\n",
       "      <td>-2.655181</td>\n",
       "      <td>-0.692517</td>\n",
       "      <td>-0.056946</td>\n",
       "      <td>0.001532</td>\n",
       "      <td>0.232916</td>\n",
       "      <td>1.387208</td>\n",
       "      <td>4.214406</td>\n",
       "    </tr>\n",
       "  </tbody>\n",
       "</table>\n",
       "</div>"
      ],
      "text/plain": [
       "         0.5        1.0        1.5        2.0       2.5       3.0       3.5  \\\n",
       "0 -49.503025 -31.908856 -19.072364 -10.243550 -4.672414 -1.608955 -0.303173   \n",
       "1 -18.062561  -9.579106  -4.281312  -1.419179 -0.242707 -0.001896  0.053253   \n",
       "2 -44.181303 -27.961337 -16.294156  -8.429762 -3.618153 -1.109331 -0.153294   \n",
       "3 -11.952283  -5.700707  -2.128717  -0.486311 -0.023489  0.009747  0.363398   \n",
       "4 -24.005733 -13.561789  -6.694938  -2.655181 -0.692517 -0.056946  0.001532   \n",
       "\n",
       "        4.0       4.5        5.0  \n",
       "0 -0.005069  0.035357   0.568106  \n",
       "1  0.672741  2.606569   6.604734  \n",
       "2 -0.000044  0.100421   0.898100  \n",
       "3  1.787465  5.031947  10.846844  \n",
       "4  0.232916  1.387208   4.214406  "
      ]
     },
     "execution_count": 15,
     "metadata": {},
     "output_type": "execute_result"
    }
   ],
   "source": [
    "# (X - u)^3\n",
    "sub3_df = sub_df.applymap(lambda x: x*x*x)\n",
    "sub3_df.head()"
   ]
  },
  {
   "cell_type": "code",
   "execution_count": 16,
   "metadata": {
    "collapsed": false,
    "scrolled": true
   },
   "outputs": [
    {
     "data": {
      "text/plain": [
       "0    0.244752\n",
       "1    1.187726\n",
       "2    0.718237\n",
       "3    1.542703\n",
       "4    1.050882\n",
       "dtype: float64"
      ]
     },
     "execution_count": 16,
     "metadata": {},
     "output_type": "execute_result"
    }
   ],
   "source": [
    "# theta^3 \n",
    "std3 = std.map(lambda x: x**3)\n",
    "std3.head()"
   ]
  },
  {
   "cell_type": "code",
   "execution_count": 17,
   "metadata": {
    "collapsed": false
   },
   "outputs": [
    {
     "data": {
      "text/html": [
       "<div>\n",
       "<table border=\"1\" class=\"dataframe\">\n",
       "  <thead>\n",
       "    <tr style=\"text-align: right;\">\n",
       "      <th></th>\n",
       "      <th>0.5</th>\n",
       "      <th>1.0</th>\n",
       "      <th>1.5</th>\n",
       "      <th>2.0</th>\n",
       "      <th>2.5</th>\n",
       "      <th>3.0</th>\n",
       "      <th>3.5</th>\n",
       "      <th>4.0</th>\n",
       "      <th>4.5</th>\n",
       "      <th>5.0</th>\n",
       "    </tr>\n",
       "  </thead>\n",
       "  <tbody>\n",
       "    <tr>\n",
       "      <th>0</th>\n",
       "      <td>-202.257906</td>\n",
       "      <td>-130.372202</td>\n",
       "      <td>-77.925268</td>\n",
       "      <td>-41.852776</td>\n",
       "      <td>-19.090401</td>\n",
       "      <td>-6.573817</td>\n",
       "      <td>-1.238696</td>\n",
       "      <td>-0.020712</td>\n",
       "      <td>0.144460</td>\n",
       "      <td>2.321149</td>\n",
       "    </tr>\n",
       "    <tr>\n",
       "      <th>1</th>\n",
       "      <td>-15.207680</td>\n",
       "      <td>-8.065079</td>\n",
       "      <td>-3.604628</td>\n",
       "      <td>-1.194870</td>\n",
       "      <td>-0.204346</td>\n",
       "      <td>-0.001597</td>\n",
       "      <td>0.044836</td>\n",
       "      <td>0.566411</td>\n",
       "      <td>2.194587</td>\n",
       "      <td>5.560822</td>\n",
       "    </tr>\n",
       "    <tr>\n",
       "      <th>2</th>\n",
       "      <td>-61.513543</td>\n",
       "      <td>-38.930515</td>\n",
       "      <td>-22.686322</td>\n",
       "      <td>-11.736741</td>\n",
       "      <td>-5.037548</td>\n",
       "      <td>-1.544519</td>\n",
       "      <td>-0.213431</td>\n",
       "      <td>-0.000061</td>\n",
       "      <td>0.139816</td>\n",
       "      <td>1.250422</td>\n",
       "    </tr>\n",
       "    <tr>\n",
       "      <th>3</th>\n",
       "      <td>-7.747626</td>\n",
       "      <td>-3.695273</td>\n",
       "      <td>-1.379862</td>\n",
       "      <td>-0.315233</td>\n",
       "      <td>-0.015226</td>\n",
       "      <td>0.006318</td>\n",
       "      <td>0.235560</td>\n",
       "      <td>1.158658</td>\n",
       "      <td>3.261774</td>\n",
       "      <td>7.031066</td>\n",
       "    </tr>\n",
       "    <tr>\n",
       "      <th>4</th>\n",
       "      <td>-22.843405</td>\n",
       "      <td>-12.905144</td>\n",
       "      <td>-6.370778</td>\n",
       "      <td>-2.526621</td>\n",
       "      <td>-0.658986</td>\n",
       "      <td>-0.054189</td>\n",
       "      <td>0.001457</td>\n",
       "      <td>0.221639</td>\n",
       "      <td>1.320041</td>\n",
       "      <td>4.010350</td>\n",
       "    </tr>\n",
       "  </tbody>\n",
       "</table>\n",
       "</div>"
      ],
      "text/plain": [
       "          0.5         1.0        1.5        2.0        2.5       3.0  \\\n",
       "0 -202.257906 -130.372202 -77.925268 -41.852776 -19.090401 -6.573817   \n",
       "1  -15.207680   -8.065079  -3.604628  -1.194870  -0.204346 -0.001597   \n",
       "2  -61.513543  -38.930515 -22.686322 -11.736741  -5.037548 -1.544519   \n",
       "3   -7.747626   -3.695273  -1.379862  -0.315233  -0.015226  0.006318   \n",
       "4  -22.843405  -12.905144  -6.370778  -2.526621  -0.658986 -0.054189   \n",
       "\n",
       "        3.5       4.0       4.5       5.0  \n",
       "0 -1.238696 -0.020712  0.144460  2.321149  \n",
       "1  0.044836  0.566411  2.194587  5.560822  \n",
       "2 -0.213431 -0.000061  0.139816  1.250422  \n",
       "3  0.235560  1.158658  3.261774  7.031066  \n",
       "4  0.001457  0.221639  1.320041  4.010350  "
      ]
     },
     "execution_count": 17,
     "metadata": {},
     "output_type": "execute_result"
    }
   ],
   "source": [
    "# \n",
    "skew_df = sub3_df.apply(lambda x: x / std3)\n",
    "skew_df.head()"
   ]
  },
  {
   "cell_type": "code",
   "execution_count": 18,
   "metadata": {
    "collapsed": false
   },
   "outputs": [
    {
     "data": {
      "text/plain": [
       "0   -1.002260\n",
       "1   -0.347552\n",
       "2   -1.052706\n",
       "3   -0.127879\n",
       "4   -0.452095\n",
       "dtype: float64"
      ]
     },
     "execution_count": 18,
     "metadata": {},
     "output_type": "execute_result"
    }
   ],
   "source": [
    "skew = skew_df.mul(prob_df.ix[:,:'5']).sum(axis=1)\n",
    "skew.head()"
   ]
  },
  {
   "cell_type": "markdown",
   "metadata": {},
   "source": [
    "### expect_df"
   ]
  },
  {
   "cell_type": "code",
   "execution_count": 19,
   "metadata": {
    "collapsed": false
   },
   "outputs": [
    {
     "data": {
      "text/html": [
       "<div>\n",
       "<table border=\"1\" class=\"dataframe\">\n",
       "  <thead>\n",
       "    <tr style=\"text-align: right;\">\n",
       "      <th></th>\n",
       "      <th>mean</th>\n",
       "      <th>std</th>\n",
       "      <th>skew</th>\n",
       "    </tr>\n",
       "  </thead>\n",
       "  <tbody>\n",
       "    <tr>\n",
       "      <th>0</th>\n",
       "      <td>4.171785</td>\n",
       "      <td>0.625521</td>\n",
       "      <td>-1.002260</td>\n",
       "    </tr>\n",
       "    <tr>\n",
       "      <th>1</th>\n",
       "      <td>3.123774</td>\n",
       "      <td>1.059023</td>\n",
       "      <td>-0.347552</td>\n",
       "    </tr>\n",
       "    <tr>\n",
       "      <th>2</th>\n",
       "      <td>4.035191</td>\n",
       "      <td>0.895549</td>\n",
       "      <td>-1.052706</td>\n",
       "    </tr>\n",
       "    <tr>\n",
       "      <th>3</th>\n",
       "      <td>2.786390</td>\n",
       "      <td>1.155476</td>\n",
       "      <td>-0.127879</td>\n",
       "    </tr>\n",
       "    <tr>\n",
       "      <th>4</th>\n",
       "      <td>3.384729</td>\n",
       "      <td>1.016681</td>\n",
       "      <td>-0.452095</td>\n",
       "    </tr>\n",
       "  </tbody>\n",
       "</table>\n",
       "</div>"
      ],
      "text/plain": [
       "       mean       std      skew\n",
       "0  4.171785  0.625521 -1.002260\n",
       "1  3.123774  1.059023 -0.347552\n",
       "2  4.035191  0.895549 -1.052706\n",
       "3  2.786390  1.155476 -0.127879\n",
       "4  3.384729  1.016681 -0.452095"
      ]
     },
     "execution_count": 19,
     "metadata": {},
     "output_type": "execute_result"
    }
   ],
   "source": [
    "expect_df = pd.DataFrame({'mean':mean,\n",
    "             'std':std,})\n",
    "expect_df['skew'] = skew\n",
    "expect_df.head()"
   ]
  },
  {
   "cell_type": "code",
   "execution_count": 20,
   "metadata": {
    "collapsed": true
   },
   "outputs": [],
   "source": [
    "expect_df.to_csv('../resource/preprocess_expectation_df.csv', index=False)"
   ]
  }
 ],
 "metadata": {
  "kernelspec": {
   "display_name": "Python 2",
   "language": "python",
   "name": "python2"
  },
  "language_info": {
   "codemirror_mode": {
    "name": "ipython",
    "version": 2
   },
   "file_extension": ".py",
   "mimetype": "text/x-python",
   "name": "python",
   "nbconvert_exporter": "python",
   "pygments_lexer": "ipython2",
   "version": "2.7.11"
  }
 },
 "nbformat": 4,
 "nbformat_minor": 0
}
