{
 "cells": [
  {
   "cell_type": "code",
   "execution_count": 1,
   "metadata": {
    "collapsed": false
   },
   "outputs": [
    {
     "data": {
      "text/html": [
       "<div>\n",
       "<table border=\"1\" class=\"dataframe\">\n",
       "  <thead>\n",
       "    <tr style=\"text-align: right;\">\n",
       "      <th></th>\n",
       "      <th>rating(y)</th>\n",
       "      <th>avg_rating</th>\n",
       "      <th>lee_rating</th>\n",
       "      <th>eval_count</th>\n",
       "      <th>wish_count</th>\n",
       "      <th>cmt_count</th>\n",
       "      <th>run_time</th>\n",
       "      <th>year</th>\n",
       "      <th>star0.5</th>\n",
       "      <th>star1</th>\n",
       "      <th>...</th>\n",
       "      <th>1500</th>\n",
       "      <th>1501</th>\n",
       "      <th>1502</th>\n",
       "      <th>1503</th>\n",
       "      <th>1504</th>\n",
       "      <th>1505</th>\n",
       "      <th>1506</th>\n",
       "      <th>1507</th>\n",
       "      <th>1508</th>\n",
       "      <th>1509</th>\n",
       "    </tr>\n",
       "  </thead>\n",
       "  <tbody>\n",
       "    <tr>\n",
       "      <th>0</th>\n",
       "      <td>3.5</td>\n",
       "      <td>4.22683</td>\n",
       "      <td>4.5</td>\n",
       "      <td>13025</td>\n",
       "      <td>9796</td>\n",
       "      <td>2585</td>\n",
       "      <td>128</td>\n",
       "      <td>2015</td>\n",
       "      <td>7</td>\n",
       "      <td>10</td>\n",
       "      <td>...</td>\n",
       "      <td>0</td>\n",
       "      <td>0</td>\n",
       "      <td>0</td>\n",
       "      <td>0</td>\n",
       "      <td>0</td>\n",
       "      <td>0</td>\n",
       "      <td>0</td>\n",
       "      <td>0</td>\n",
       "      <td>0</td>\n",
       "      <td>0</td>\n",
       "    </tr>\n",
       "    <tr>\n",
       "      <th>1</th>\n",
       "      <td>2.5</td>\n",
       "      <td>2.99629</td>\n",
       "      <td>3.0</td>\n",
       "      <td>58122</td>\n",
       "      <td>3166</td>\n",
       "      <td>965</td>\n",
       "      <td>121</td>\n",
       "      <td>2013</td>\n",
       "      <td>1312</td>\n",
       "      <td>2238</td>\n",
       "      <td>...</td>\n",
       "      <td>0</td>\n",
       "      <td>0</td>\n",
       "      <td>0</td>\n",
       "      <td>0</td>\n",
       "      <td>0</td>\n",
       "      <td>0</td>\n",
       "      <td>0</td>\n",
       "      <td>0</td>\n",
       "      <td>0</td>\n",
       "      <td>0</td>\n",
       "    </tr>\n",
       "    <tr>\n",
       "      <th>2</th>\n",
       "      <td>4.0</td>\n",
       "      <td>3.90119</td>\n",
       "      <td>3.0</td>\n",
       "      <td>66296</td>\n",
       "      <td>33565</td>\n",
       "      <td>1539</td>\n",
       "      <td>108</td>\n",
       "      <td>2013</td>\n",
       "      <td>228</td>\n",
       "      <td>316</td>\n",
       "      <td>...</td>\n",
       "      <td>0</td>\n",
       "      <td>0</td>\n",
       "      <td>0</td>\n",
       "      <td>0</td>\n",
       "      <td>0</td>\n",
       "      <td>0</td>\n",
       "      <td>0</td>\n",
       "      <td>0</td>\n",
       "      <td>0</td>\n",
       "      <td>0</td>\n",
       "    </tr>\n",
       "    <tr>\n",
       "      <th>3</th>\n",
       "      <td>2.0</td>\n",
       "      <td>2.62241</td>\n",
       "      <td>3.0</td>\n",
       "      <td>67031</td>\n",
       "      <td>1079</td>\n",
       "      <td>712</td>\n",
       "      <td>104</td>\n",
       "      <td>2013</td>\n",
       "      <td>3615</td>\n",
       "      <td>4063</td>\n",
       "      <td>...</td>\n",
       "      <td>0</td>\n",
       "      <td>0</td>\n",
       "      <td>0</td>\n",
       "      <td>0</td>\n",
       "      <td>0</td>\n",
       "      <td>0</td>\n",
       "      <td>0</td>\n",
       "      <td>0</td>\n",
       "      <td>0</td>\n",
       "      <td>0</td>\n",
       "    </tr>\n",
       "    <tr>\n",
       "      <th>4</th>\n",
       "      <td>3.0</td>\n",
       "      <td>3.31175</td>\n",
       "      <td>3.0</td>\n",
       "      <td>68174</td>\n",
       "      <td>9510</td>\n",
       "      <td>2439</td>\n",
       "      <td>119</td>\n",
       "      <td>2014</td>\n",
       "      <td>787</td>\n",
       "      <td>1612</td>\n",
       "      <td>...</td>\n",
       "      <td>0</td>\n",
       "      <td>0</td>\n",
       "      <td>0</td>\n",
       "      <td>0</td>\n",
       "      <td>0</td>\n",
       "      <td>0</td>\n",
       "      <td>0</td>\n",
       "      <td>0</td>\n",
       "      <td>0</td>\n",
       "      <td>0</td>\n",
       "    </tr>\n",
       "  </tbody>\n",
       "</table>\n",
       "<p>5 rows × 1528 columns</p>\n",
       "</div>"
      ],
      "text/plain": [
       "   rating(y)  avg_rating  lee_rating  eval_count  wish_count  cmt_count  \\\n",
       "0        3.5     4.22683         4.5       13025        9796       2585   \n",
       "1        2.5     2.99629         3.0       58122        3166        965   \n",
       "2        4.0     3.90119         3.0       66296       33565       1539   \n",
       "3        2.0     2.62241         3.0       67031        1079        712   \n",
       "4        3.0     3.31175         3.0       68174        9510       2439   \n",
       "\n",
       "   run_time  year  star0.5  star1  ...   1500  1501  1502  1503  1504  1505  \\\n",
       "0       128  2015        7     10  ...      0     0     0     0     0     0   \n",
       "1       121  2013     1312   2238  ...      0     0     0     0     0     0   \n",
       "2       108  2013      228    316  ...      0     0     0     0     0     0   \n",
       "3       104  2013     3615   4063  ...      0     0     0     0     0     0   \n",
       "4       119  2014      787   1612  ...      0     0     0     0     0     0   \n",
       "\n",
       "   1506  1507  1508  1509  \n",
       "0     0     0     0     0  \n",
       "1     0     0     0     0  \n",
       "2     0     0     0     0  \n",
       "3     0     0     0     0  \n",
       "4     0     0     0     0  \n",
       "\n",
       "[5 rows x 1528 columns]"
      ]
     },
     "execution_count": 1,
     "metadata": {},
     "output_type": "execute_result"
    }
   ],
   "source": [
    "df = pd.read_csv('./resource/final_df1.csv')\n",
    "df2 = pd.read_csv('./resource/final_df2.csv')\n",
    "df.head()"
   ]
  },
  {
   "cell_type": "markdown",
   "metadata": {},
   "source": [
    "### Xn, y :"
   ]
  },
  {
   "cell_type": "code",
   "execution_count": 2,
   "metadata": {
    "collapsed": false,
    "scrolled": true
   },
   "outputs": [],
   "source": [
    "y_df = df['rating(y)']\n",
    "X_df = df.drop('rating(y)', axis=1)\n",
    "X_df2 = df2.drop(['rating(y)', 'skew'], axis=1)\n",
    "X_df3 = df.drop(['rating(y)', 'lee_rating'], axis=1)\n",
    "X_df4 = df.drop(['rating(y)', 'lee_rating', 'run_time', 'year'], axis=1)\n",
    "X_df5 = df.drop(['rating(y)', 'lee_rating', 'run_time', 'year', 'avg_rating'], axis=1)\n",
    "X_df6 = df.drop(['rating(y)', 'lee_rating', 'run_time', 'year', 'avg_rating', \n",
    "         'star0.5', 'star1', 'star1.5', 'star2', 'star2.5', 'star3', 'star3.5', 'star4', 'star4.5', 'star5'], axis=1)\n",
    "X_df7 = df.drop(['rating(y)', 'lee_rating', 'run_time', 'year', 'avg_rating', 'eval_count',\n",
    "                'wish_count', 'cmt_count'], axis=1)\n",
    "X_df8 = df.ix[:,'0':]\n",
    "X_df9 = df.ix[:,'avg_rating':'star5']\n",
    "\n",
    "y = y_df.as_matrix().astype('string')\n",
    "\n",
    "X = X_df.as_matrix() # 별점분포 그대로 사용\n",
    "X2 = X_df2.as_matrix() # 별점분포를 std로 사용(skew는 negative 오류나서 뺌)\n",
    "X3 = X_df3.as_matrix() # X에서 lee_rating 뻄\n",
    "X4 = X_df4.as_matrix() # X에서 lee_rating, run_time, year 뻄\n",
    "X5 = X_df5.as_matrix() # X에서 lee_rating, run_time, year, avg_rating 뻄\n",
    "X6 = X_df6.as_matrix() # X에서 lee_rating, run_time, year, avg_rating, 별점분포 뻄\n",
    "X7 = X_df7.as_matrix() # 별점분포 + sparse matrix로만 구성\n",
    "X8 = X_df8.as_matrix() # sparse matrix로만 피쳐구성\n",
    "X9 = X_df9.as_matrix() # sparse matrix빼고 구성"
   ]
  },
  {
   "cell_type": "code",
   "execution_count": 4,
   "metadata": {
    "collapsed": false
   },
   "outputs": [
    {
     "data": {
      "text/plain": [
       "array([[  4.22683000e+00,   4.50000000e+00,   1.30250000e+04, ...,\n",
       "          0.00000000e+00,   0.00000000e+00,   0.00000000e+00],\n",
       "       [  2.99629000e+00,   3.00000000e+00,   5.81220000e+04, ...,\n",
       "          0.00000000e+00,   0.00000000e+00,   0.00000000e+00],\n",
       "       [  3.90119000e+00,   3.00000000e+00,   6.62960000e+04, ...,\n",
       "          0.00000000e+00,   0.00000000e+00,   0.00000000e+00],\n",
       "       ..., \n",
       "       [  4.10486000e+00,   3.00000000e+00,   5.64090000e+05, ...,\n",
       "          0.00000000e+00,   0.00000000e+00,   0.00000000e+00],\n",
       "       [  2.97457000e+00,   3.00000000e+00,   3.41757000e+05, ...,\n",
       "          0.00000000e+00,   0.00000000e+00,   0.00000000e+00],\n",
       "       [  3.65453000e+00,   3.00000000e+00,   4.61916000e+05, ...,\n",
       "          0.00000000e+00,   0.00000000e+00,   0.00000000e+00]])"
      ]
     },
     "execution_count": 4,
     "metadata": {},
     "output_type": "execute_result"
    }
   ],
   "source": [
    "X"
   ]
  },
  {
   "cell_type": "markdown",
   "metadata": {},
   "source": [
    "### Mulitnomial NB"
   ]
  },
  {
   "cell_type": "code",
   "execution_count": 4,
   "metadata": {
    "collapsed": false
   },
   "outputs": [],
   "source": [
    "from sklearn.naive_bayes import MultinomialNB\n",
    "clf1 = MultinomialNB(alpha=0.00001).fit(X, y)\n",
    "clf2 = MultinomialNB().fit(X2, y)\n",
    "clf3 = MultinomialNB().fit(X3, y)\n",
    "clf4 = MultinomialNB().fit(X4, y)\n",
    "clf5 = MultinomialNB().fit(X5, y)\n",
    "clf6 = MultinomialNB().fit(X6, y)\n",
    "clf7 = MultinomialNB().fit(X7, y)\n",
    "clf8 = MultinomialNB().fit(X8, y)\n",
    "clf9 = MultinomialNB().fit(X9, y)"
   ]
  },
  {
   "cell_type": "code",
   "execution_count": 5,
   "metadata": {
    "collapsed": false,
    "scrolled": true
   },
   "outputs": [],
   "source": [
    "clf1_predicted = clf1.predict(X)\n",
    "clf2_predicted = clf2.predict(X2)\n",
    "clf3_predicted = clf3.predict(X3)\n",
    "clf4_predicted = clf4.predict(X4)\n",
    "clf5_predicted = clf5.predict(X5)\n",
    "clf6_predicted = clf6.predict(X6)\n",
    "clf7_predicted = clf7.predict(X7)\n",
    "clf8_predicted = clf8.predict(X8)\n",
    "clf9_predicted = clf9.predict(X9)"
   ]
  },
  {
   "cell_type": "markdown",
   "metadata": {},
   "source": [
    "### 0.5 - 5점까지 10개의 Class 존재 (baseline = 0.1)\n",
    "* alpah = 1 (default)"
   ]
  },
  {
   "cell_type": "code",
   "execution_count": 6,
   "metadata": {
    "collapsed": false
   },
   "outputs": [
    {
     "data": {
      "text/plain": [
       "0.26838235294117646"
      ]
     },
     "execution_count": 6,
     "metadata": {},
     "output_type": "execute_result"
    }
   ],
   "source": [
    "# 별점분포 그대로 사용한 경우\n",
    "np.mean(clf1_predicted == y)"
   ]
  },
  {
   "cell_type": "code",
   "execution_count": 7,
   "metadata": {
    "collapsed": false
   },
   "outputs": [
    {
     "data": {
      "text/plain": [
       "0.16544117647058823"
      ]
     },
     "execution_count": 7,
     "metadata": {},
     "output_type": "execute_result"
    }
   ],
   "source": [
    "# 별점분포 std로 바꾼경우 = > score내려감 => bad!!!\n",
    "np.mean(clf2_predicted == y)"
   ]
  },
  {
   "cell_type": "code",
   "execution_count": 8,
   "metadata": {
    "collapsed": false
   },
   "outputs": [
    {
     "data": {
      "text/plain": [
       "0.26838235294117646"
      ]
     },
     "execution_count": 8,
     "metadata": {},
     "output_type": "execute_result"
    }
   ],
   "source": [
    "# lee_rating 뺐더니 그대로 => 의미없는 feature\n",
    "np.mean(clf3_predicted == y)"
   ]
  },
  {
   "cell_type": "code",
   "execution_count": 9,
   "metadata": {
    "collapsed": false
   },
   "outputs": [
    {
     "data": {
      "text/plain": [
       "0.27205882352941174"
      ]
     },
     "execution_count": 9,
     "metadata": {},
     "output_type": "execute_result"
    }
   ],
   "source": [
    "# run_time 뻈더니 그대로 => 의미없는 feature\n",
    "# year 뻈더니 => score 조금오름\n",
    "np.mean(clf4_predicted == y)"
   ]
  },
  {
   "cell_type": "code",
   "execution_count": 10,
   "metadata": {
    "collapsed": false
   },
   "outputs": [
    {
     "data": {
      "text/plain": [
       "0.27205882352941174"
      ]
     },
     "execution_count": 10,
     "metadata": {},
     "output_type": "execute_result"
    }
   ],
   "source": [
    "# avg_rating 뻈더니 그대로 => 의미없는 feature\n",
    "np.mean(clf5_predicted == y)"
   ]
  },
  {
   "cell_type": "code",
   "execution_count": 11,
   "metadata": {
    "collapsed": false
   },
   "outputs": [
    {
     "data": {
      "text/plain": [
       "0.15808823529411764"
      ]
     },
     "execution_count": 11,
     "metadata": {},
     "output_type": "execute_result"
    }
   ],
   "source": [
    "# 별점분포 뱄더니 => score내려감 => bad!!!\n",
    "np.mean(clf6_predicted == y)"
   ]
  },
  {
   "cell_type": "code",
   "execution_count": 12,
   "metadata": {
    "collapsed": false
   },
   "outputs": [
    {
     "data": {
      "text/plain": [
       "0.28676470588235292"
      ]
     },
     "execution_count": 12,
     "metadata": {},
     "output_type": "execute_result"
    }
   ],
   "source": [
    "# 별점분포 다시포함, eval, wish, cmt_count 뻈더니 => score 오름 0.2867\n",
    "# wish 뺐더니 => 0.2849\n",
    "# wish, cmt 뺐더니 => 0.2867\n",
    "np.mean(clf7_predicted == y)"
   ]
  },
  {
   "cell_type": "code",
   "execution_count": 13,
   "metadata": {
    "collapsed": false
   },
   "outputs": [
    {
     "data": {
      "text/plain": [
       "0.6783088235294118"
      ]
     },
     "execution_count": 13,
     "metadata": {},
     "output_type": "execute_result"
    }
   ],
   "source": [
    "# 배우피쳐로만 한경우 => score.....................\n",
    "np.mean(clf8_predicted == y)"
   ]
  },
  {
   "cell_type": "code",
   "execution_count": 14,
   "metadata": {
    "collapsed": false
   },
   "outputs": [
    {
     "data": {
      "text/plain": [
       "0.26838235294117646"
      ]
     },
     "execution_count": 14,
     "metadata": {},
     "output_type": "execute_result"
    }
   ],
   "source": [
    "# sparse matrix 빼고 한 경우 => 맨처음 결과와 똑같음\n",
    "np.mean(clf9_predicted == y)"
   ]
  },
  {
   "cell_type": "code",
   "execution_count": 34,
   "metadata": {
    "collapsed": false,
    "scrolled": true
   },
   "outputs": [
    {
     "data": {
      "text/plain": [
       "array(['3.5', '2.5', '4.0', '2.0', '3.0', '2.0', '2.5', '3.5', '2.0',\n",
       "       '4.0', '4.5', '3.0', '3.5', '3.0', '3.5', '3.5', '4.0', '4.0',\n",
       "       '3.0', '3.5', '3.5', '4.0', '3.5', '2.5', '0.5', '3.0', '3.5',\n",
       "       '3.5', '4.0', '3.5', '3.5', '4.5', '4.5', '4.5', '4.5', '4.5',\n",
       "       '4.5', '3.0', '3.5', '4.5', '4.5', '5.0', '3.0', '4.0', '5.0',\n",
       "       '4.0', '3.5', '4.0', '4.0', '4.5', '4.0', '4.5', '4.0', '4.0',\n",
       "       '4.0', '4.5', '2.5', '4.0', '3.0', '2.0', '4.5', '3.0', '2.5',\n",
       "       '1.0', '0.5', '2.0', '2.0', '2.5', '1.0', '2.5', '3.5', '5.0',\n",
       "       '3.0', '3.0', '2.5', '4.0', '3.0', '2.0', '3.0', '5.0', '4.0',\n",
       "       '3.0', '3.0', '2.0', '3.0', '1.0', '3.0', '3.0', '2.0', '3.0',\n",
       "       '1.0', '1.0', '2.0', '2.0', '1.0', '2.0', '1.0', '2.0', '2.0',\n",
       "       '3.0', '4.0', '3.0', '4.0', '1.0', '4.0', '3.0', '4.0', '3.0',\n",
       "       '4.0', '2.0', '4.0', '3.0', '4.0', '3.0', '1.0', '2.0', '2.0',\n",
       "       '2.0', '1.0', '3.0', '3.0', '3.0', '3.0', '4.0', '2.0', '4.0',\n",
       "       '3.0', '3.0', '4.0', '3.0', '4.0', '3.0', '1.0', '2.0', '2.0',\n",
       "       '4.0', '4.0', '3.0', '1.0', '2.0', '2.0', '3.0', '2.0', '4.0',\n",
       "       '2.0', '5.0', '4.0', '5.0', '3.0', '4.0', '3.0', '5.0', '3.0',\n",
       "       '3.0', '3.0', '3.0', '3.0', '3.0', '4.0', '2.0', '3.0', '3.0',\n",
       "       '4.0', '3.0', '2.0', '2.0', '3.0', '5.0', '5.0', '4.0', '2.0',\n",
       "       '5.0', '4.0', '3.0', '1.0', '3.0', '3.0', '3.0', '2.0', '3.0',\n",
       "       '3.0', '3.0', '4.0', '2.0', '4.0', '1.0', '2.0', '2.0', '4.0',\n",
       "       '2.0', '3.0', '2.0', '3.0', '4.0', '3.0', '3.0', '3.0', '2.0',\n",
       "       '4.0', '3.0', '3.0', '5.0', '1.0', '3.0', '4.0', '4.0', '2.0',\n",
       "       '2.0', '1.0', '4.0', '3.0', '3.0', '4.0', '3.0', '3.0', '1.0',\n",
       "       '3.0', '2.0', '3.0', '3.0', '2.0', '2.0', '2.0', '3.0', '3.0',\n",
       "       '3.0', '3.0', '5.0', '3.0', '2.0', '3.0', '3.0', '4.0', '2.0',\n",
       "       '3.0', '3.0', '4.0', '2.0', '3.0', '3.0', '5.0', '3.0', '4.0',\n",
       "       '1.0', '4.0', '1.0', '1.0', '4.0', '4.0', '4.0', '5.0', '3.0',\n",
       "       '3.0', '5.0', '2.0', '2.0', '3.0', '5.0', '4.0', '4.0', '4.0',\n",
       "       '3.0', '3.0', '1.0', '4.0', '3.0', '4.0', '3.0', '3.0', '3.0',\n",
       "       '3.0', '3.0', '2.0', '1.0', '3.0', '5.0', '3.0', '3.0', '3.0',\n",
       "       '2.0', '1.0', '4.0', '3.0', '3.0', '3.0', '4.0', '4.0', '4.0',\n",
       "       '1.0', '3.0', '1.0', '1.0', '1.0', '4.0', '3.0', '4.0', '3.0',\n",
       "       '1.0', '1.0', '1.0', '3.0', '4.0', '3.0', '2.0', '4.0', '3.0',\n",
       "       '3.0', '2.0', '4.0', '3.0', '4.0', '3.0', '3.0', '3.0', '3.0',\n",
       "       '3.0', '2.0', '3.0', '3.0', '3.0', '3.0', '3.0', '4.0', '3.0',\n",
       "       '5.0', '3.0', '3.0', '3.0', '5.0', '3.0', '4.0', '4.0', '4.0',\n",
       "       '3.0', '4.0', '3.0', '3.0', '3.0', '4.0', '3.0', '3.0', '4.0',\n",
       "       '5.0', '4.0', '4.0', '4.0', '4.0', '4.0', '4.0', '4.0', '4.0',\n",
       "       '3.0', '3.0', '4.0', '3.0', '4.0', '4.0', '5.0', '4.0', '4.0',\n",
       "       '5.0', '5.0', '5.0', '3.0', '3.0', '5.0', '4.0', '4.0', '4.0',\n",
       "       '4.0', '4.0', '3.0', '5.0', '5.0', '3.0', '5.0', '3.0', '3.0',\n",
       "       '3.0', '3.0', '4.0', '3.0', '3.0', '4.0', '2.0', '2.0', '2.0',\n",
       "       '1.0', '3.0', '3.0', '4.0', '3.0', '1.0', '4.0', '3.0', '3.0',\n",
       "       '2.0', '2.0', '3.0', '2.0', '1.0', '3.0', '1.0', '1.0', '2.0',\n",
       "       '1.0', '1.0', '3.0', '4.0', '4.0', '2.0', '1.0', '1.0', '1.0',\n",
       "       '2.0', '2.0', '4.0', '5.0', '5.0', '4.0', '1.0', '3.0', '2.0',\n",
       "       '1.0', '4.0', '4.0', '5.0', '4.0', '3.0', '4.0', '4.0', '4.0',\n",
       "       '3.0', '1.0', '2.0', '2.0', '1.0', '3.0', '4.0', '3.0', '3.0',\n",
       "       '4.0', '4.0', '4.0', '3.0', '3.0', '3.0', '2.0', '3.0', '2.0',\n",
       "       '2.0', '3.0', '3.0', '2.0', '3.0', '3.0', '3.0', '1.0', '1.0',\n",
       "       '4.0', '4.0', '3.0', '4.0', '3.0', '1.0', '1.0', '1.0', '1.0',\n",
       "       '4.0', '1.0', '4.0', '4.0', '3.0', '3.0', '2.0', '1.0', '4.0',\n",
       "       '5.0', '4.0', '5.0', '1.0', '1.0', '1.0', '5.0', '2.0', '5.0',\n",
       "       '3.0', '3.0', '1.0', '5.0', '2.0', '1.0', '1.0', '1.0', '5.0',\n",
       "       '5.0', '3.0', '3.0', '4.0', '4.0', '4.0', '5.0', '5.0', '4.0',\n",
       "       '3.0', '3.0', '2.0', '2.0', '3.0', '4.0', '2.0', '4.0', '4.0',\n",
       "       '5.0', '4.0', '4.0', '4.0', '3.0', '3.0', '3.0', '5.0', '5.0',\n",
       "       '4.0', '5.0', '3.0', '5.0', '4.0', '2.0', '2.0', '3.0', '5.0',\n",
       "       '4.0', '5.0', '4.0', '4.0', '3.0', '1.0', '4.0', '2.0', '4.0',\n",
       "       '5.0', '4.0', '3.0', '4.0'], \n",
       "      dtype='|S32')"
      ]
     },
     "execution_count": 34,
     "metadata": {},
     "output_type": "execute_result"
    }
   ],
   "source": [
    "y"
   ]
  },
  {
   "cell_type": "markdown",
   "metadata": {},
   "source": [
    "#### clf8_predicted"
   ]
  },
  {
   "cell_type": "code",
   "execution_count": 15,
   "metadata": {
    "collapsed": false
   },
   "outputs": [
    {
     "data": {
      "text/html": [
       "<div>\n",
       "<table border=\"1\" class=\"dataframe\">\n",
       "  <thead>\n",
       "    <tr style=\"text-align: right;\">\n",
       "      <th></th>\n",
       "      <th>star0.5</th>\n",
       "      <th>star1</th>\n",
       "      <th>star1.5</th>\n",
       "      <th>star2</th>\n",
       "      <th>star2.5</th>\n",
       "      <th>star3</th>\n",
       "      <th>star3.5</th>\n",
       "      <th>star4</th>\n",
       "      <th>star4.5</th>\n",
       "      <th>star5</th>\n",
       "      <th>...</th>\n",
       "      <th>1500</th>\n",
       "      <th>1501</th>\n",
       "      <th>1502</th>\n",
       "      <th>1503</th>\n",
       "      <th>1504</th>\n",
       "      <th>1505</th>\n",
       "      <th>1506</th>\n",
       "      <th>1507</th>\n",
       "      <th>1508</th>\n",
       "      <th>1509</th>\n",
       "    </tr>\n",
       "  </thead>\n",
       "  <tbody>\n",
       "    <tr>\n",
       "      <th>0</th>\n",
       "      <td>7</td>\n",
       "      <td>10</td>\n",
       "      <td>14</td>\n",
       "      <td>83</td>\n",
       "      <td>50</td>\n",
       "      <td>1472</td>\n",
       "      <td>454</td>\n",
       "      <td>4509</td>\n",
       "      <td>4318</td>\n",
       "      <td>2108</td>\n",
       "      <td>...</td>\n",
       "      <td>0</td>\n",
       "      <td>0</td>\n",
       "      <td>0</td>\n",
       "      <td>0</td>\n",
       "      <td>0</td>\n",
       "      <td>0</td>\n",
       "      <td>0</td>\n",
       "      <td>0</td>\n",
       "      <td>0</td>\n",
       "      <td>0</td>\n",
       "    </tr>\n",
       "  </tbody>\n",
       "</table>\n",
       "<p>1 rows × 1520 columns</p>\n",
       "</div>"
      ],
      "text/plain": [
       "   star0.5  star1  star1.5  star2  star2.5  star3  star3.5  star4  star4.5  \\\n",
       "0        7     10       14     83       50   1472      454   4509     4318   \n",
       "\n",
       "   star5  ...   1500  1501  1502  1503  1504  1505  1506  1507  1508  1509  \n",
       "0   2108  ...      0     0     0     0     0     0     0     0     0     0  \n",
       "\n",
       "[1 rows x 1520 columns]"
      ]
     },
     "execution_count": 15,
     "metadata": {},
     "output_type": "execute_result"
    }
   ],
   "source": [
    "# X7\n",
    "df.drop(['rating(y)', 'lee_rating', 'run_time', 'year', 'avg_rating', 'eval_count',\n",
    "                'wish_count', 'cmt_count'], axis=1).head(1)"
   ]
  },
  {
   "cell_type": "code",
   "execution_count": 16,
   "metadata": {
    "collapsed": false
   },
   "outputs": [
    {
     "data": {
      "text/html": [
       "<div>\n",
       "<table border=\"1\" class=\"dataframe\">\n",
       "  <thead>\n",
       "    <tr style=\"text-align: right;\">\n",
       "      <th></th>\n",
       "      <th>0</th>\n",
       "      <th>1</th>\n",
       "      <th>2</th>\n",
       "      <th>3</th>\n",
       "      <th>4</th>\n",
       "      <th>5</th>\n",
       "      <th>6</th>\n",
       "      <th>7</th>\n",
       "      <th>8</th>\n",
       "      <th>9</th>\n",
       "      <th>...</th>\n",
       "      <th>1500</th>\n",
       "      <th>1501</th>\n",
       "      <th>1502</th>\n",
       "      <th>1503</th>\n",
       "      <th>1504</th>\n",
       "      <th>1505</th>\n",
       "      <th>1506</th>\n",
       "      <th>1507</th>\n",
       "      <th>1508</th>\n",
       "      <th>1509</th>\n",
       "    </tr>\n",
       "  </thead>\n",
       "  <tbody>\n",
       "    <tr>\n",
       "      <th>0</th>\n",
       "      <td>0</td>\n",
       "      <td>0</td>\n",
       "      <td>0</td>\n",
       "      <td>0</td>\n",
       "      <td>0</td>\n",
       "      <td>0</td>\n",
       "      <td>0</td>\n",
       "      <td>0</td>\n",
       "      <td>0</td>\n",
       "      <td>0</td>\n",
       "      <td>...</td>\n",
       "      <td>0</td>\n",
       "      <td>0</td>\n",
       "      <td>0</td>\n",
       "      <td>0</td>\n",
       "      <td>0</td>\n",
       "      <td>0</td>\n",
       "      <td>0</td>\n",
       "      <td>0</td>\n",
       "      <td>0</td>\n",
       "      <td>0</td>\n",
       "    </tr>\n",
       "  </tbody>\n",
       "</table>\n",
       "<p>1 rows × 1510 columns</p>\n",
       "</div>"
      ],
      "text/plain": [
       "   0  1  2  3  4  5  6  7  8  9  ...   1500  1501  1502  1503  1504  1505  \\\n",
       "0  0  0  0  0  0  0  0  0  0  0  ...      0     0     0     0     0     0   \n",
       "\n",
       "   1506  1507  1508  1509  \n",
       "0     0     0     0     0  \n",
       "\n",
       "[1 rows x 1510 columns]"
      ]
     },
     "execution_count": 16,
     "metadata": {},
     "output_type": "execute_result"
    }
   ],
   "source": [
    "# X8\n",
    "df.ix[:,'0':].head(1)"
   ]
  },
  {
   "cell_type": "code",
   "execution_count": 17,
   "metadata": {
    "collapsed": false
   },
   "outputs": [
    {
     "data": {
      "text/html": [
       "<div>\n",
       "<table border=\"1\" class=\"dataframe\">\n",
       "  <thead>\n",
       "    <tr style=\"text-align: right;\">\n",
       "      <th></th>\n",
       "      <th>avg_rating</th>\n",
       "      <th>lee_rating</th>\n",
       "      <th>eval_count</th>\n",
       "      <th>wish_count</th>\n",
       "      <th>cmt_count</th>\n",
       "      <th>run_time</th>\n",
       "      <th>year</th>\n",
       "      <th>star0.5</th>\n",
       "      <th>star1</th>\n",
       "      <th>star1.5</th>\n",
       "      <th>star2</th>\n",
       "      <th>star2.5</th>\n",
       "      <th>star3</th>\n",
       "      <th>star3.5</th>\n",
       "      <th>star4</th>\n",
       "      <th>star4.5</th>\n",
       "      <th>star5</th>\n",
       "    </tr>\n",
       "  </thead>\n",
       "  <tbody>\n",
       "    <tr>\n",
       "      <th>0</th>\n",
       "      <td>4.22683</td>\n",
       "      <td>4.5</td>\n",
       "      <td>13025</td>\n",
       "      <td>9796</td>\n",
       "      <td>2585</td>\n",
       "      <td>128</td>\n",
       "      <td>2015</td>\n",
       "      <td>7</td>\n",
       "      <td>10</td>\n",
       "      <td>14</td>\n",
       "      <td>83</td>\n",
       "      <td>50</td>\n",
       "      <td>1472</td>\n",
       "      <td>454</td>\n",
       "      <td>4509</td>\n",
       "      <td>4318</td>\n",
       "      <td>2108</td>\n",
       "    </tr>\n",
       "  </tbody>\n",
       "</table>\n",
       "</div>"
      ],
      "text/plain": [
       "   avg_rating  lee_rating  eval_count  wish_count  cmt_count  run_time  year  \\\n",
       "0     4.22683         4.5       13025        9796       2585       128  2015   \n",
       "\n",
       "   star0.5  star1  star1.5  star2  star2.5  star3  star3.5  star4  star4.5  \\\n",
       "0        7     10       14     83       50   1472      454   4509     4318   \n",
       "\n",
       "   star5  \n",
       "0   2108  "
      ]
     },
     "execution_count": 17,
     "metadata": {},
     "output_type": "execute_result"
    }
   ],
   "source": [
    "# X9\n",
    "df.ix[:,'avg_rating':'star5'].head(1)"
   ]
  },
  {
   "cell_type": "code",
   "execution_count": null,
   "metadata": {
    "collapsed": true
   },
   "outputs": [],
   "source": []
  },
  {
   "cell_type": "markdown",
   "metadata": {
    "collapsed": true
   },
   "source": [
    "## 1번 DF의 형태(피쳐 전체포함 real value+category value)"
   ]
  },
  {
   "cell_type": "code",
   "execution_count": 28,
   "metadata": {
    "collapsed": false
   },
   "outputs": [
    {
     "data": {
      "text/html": [
       "<div>\n",
       "<table border=\"1\" class=\"dataframe\">\n",
       "  <thead>\n",
       "    <tr style=\"text-align: right;\">\n",
       "      <th></th>\n",
       "      <th>avg_rating</th>\n",
       "      <th>lee_rating</th>\n",
       "      <th>eval_count</th>\n",
       "      <th>wish_count</th>\n",
       "      <th>cmt_count</th>\n",
       "      <th>run_time</th>\n",
       "      <th>year</th>\n",
       "      <th>star0.5</th>\n",
       "      <th>star1</th>\n",
       "      <th>star1.5</th>\n",
       "      <th>...</th>\n",
       "      <th>1500</th>\n",
       "      <th>1501</th>\n",
       "      <th>1502</th>\n",
       "      <th>1503</th>\n",
       "      <th>1504</th>\n",
       "      <th>1505</th>\n",
       "      <th>1506</th>\n",
       "      <th>1507</th>\n",
       "      <th>1508</th>\n",
       "      <th>1509</th>\n",
       "    </tr>\n",
       "  </thead>\n",
       "  <tbody>\n",
       "    <tr>\n",
       "      <th>0</th>\n",
       "      <td>4.22683</td>\n",
       "      <td>4.5</td>\n",
       "      <td>13025</td>\n",
       "      <td>9796</td>\n",
       "      <td>2585</td>\n",
       "      <td>128</td>\n",
       "      <td>2015</td>\n",
       "      <td>7</td>\n",
       "      <td>10</td>\n",
       "      <td>14</td>\n",
       "      <td>...</td>\n",
       "      <td>0</td>\n",
       "      <td>0</td>\n",
       "      <td>0</td>\n",
       "      <td>0</td>\n",
       "      <td>0</td>\n",
       "      <td>0</td>\n",
       "      <td>0</td>\n",
       "      <td>0</td>\n",
       "      <td>0</td>\n",
       "      <td>0</td>\n",
       "    </tr>\n",
       "  </tbody>\n",
       "</table>\n",
       "<p>1 rows × 1527 columns</p>\n",
       "</div>"
      ],
      "text/plain": [
       "   avg_rating  lee_rating  eval_count  wish_count  cmt_count  run_time  year  \\\n",
       "0     4.22683         4.5       13025        9796       2585       128  2015   \n",
       "\n",
       "   star0.5  star1  star1.5  ...   1500  1501  1502  1503  1504  1505  1506  \\\n",
       "0        7     10       14  ...      0     0     0     0     0     0     0   \n",
       "\n",
       "   1507  1508  1509  \n",
       "0     0     0     0  \n",
       "\n",
       "[1 rows x 1527 columns]"
      ]
     },
     "execution_count": 28,
     "metadata": {},
     "output_type": "execute_result"
    }
   ],
   "source": [
    "X_df.head(1)"
   ]
  },
  {
   "cell_type": "code",
   "execution_count": 19,
   "metadata": {
    "collapsed": false
   },
   "outputs": [
    {
     "data": {
      "text/plain": [
       "[<matplotlib.lines.Line2D at 0xc9079e8>]"
      ]
     },
     "execution_count": 19,
     "metadata": {},
     "output_type": "execute_result"
    },
    {
     "data": {
      "image/png": "[encoded data removed]",
      "text/plain": [
       "<matplotlib.figure.Figure at 0x9ca9198>"
      ]
     },
     "metadata": {},
     "output_type": "display_data"
    }
   ],
   "source": [
    "# X 사용결과\n",
    "i_range=[]\n",
    "score_range=[]\n",
    "\n",
    "for i in np.arange(-10000, 80000, 1000):\n",
    "    clf = MultinomialNB(alpha=i).fit(X, y)\n",
    "    clf_predicted = clf.predict(X)\n",
    "    score =  np.mean(clf_predicted == y)\n",
    "    #print(i,'  ', score)\n",
    "    \n",
    "    i_range.append(i)\n",
    "    score_range.append(score)\n",
    "\n",
    "plt.figure(figsize=(15, 5))\n",
    "plt.plot(i_range, score_range, 'b^--')"
   ]
  },
  {
   "cell_type": "code",
   "execution_count": 20,
   "metadata": {
    "collapsed": false
   },
   "outputs": [
    {
     "data": {
      "text/plain": [
       "[<matplotlib.lines.Line2D at 0xc8e9358>]"
      ]
     },
     "execution_count": 20,
     "metadata": {},
     "output_type": "execute_result"
    },
    {
     "data": {
      "image/png": "[encoded data removed]",
      "text/plain": [
       "<matplotlib.figure.Figure at 0xc80a518>"
      ]
     },
     "metadata": {},
     "output_type": "display_data"
    }
   ],
   "source": [
    "# X9 사용결과\n",
    "i_range=[]\n",
    "score_range=[]\n",
    "\n",
    "for i in np.arange(100, 5000, 10):\n",
    "    clf = MultinomialNB(alpha=i).fit(X, y)\n",
    "    clf_predicted = clf.predict(X)\n",
    "    score =  np.mean(clf_predicted == y)\n",
    "    #print(i,'  ', score)\n",
    "    \n",
    "    i_range.append(i)\n",
    "    score_range.append(score)\n",
    "\n",
    "plt.figure(figsize=(15, 5))\n",
    "plt.plot(i_range, score_range, 'b^--')"
   ]
  },
  {
   "cell_type": "markdown",
   "metadata": {},
   "source": [
    "## 2번 DF의 형태(category value만: 감독, 배우, 장르, 국가의 sparse matrix로만 피쳐구성)"
   ]
  },
  {
   "cell_type": "code",
   "execution_count": 31,
   "metadata": {
    "collapsed": false
   },
   "outputs": [
    {
     "data": {
      "text/html": [
       "<div>\n",
       "<table border=\"1\" class=\"dataframe\">\n",
       "  <thead>\n",
       "    <tr style=\"text-align: right;\">\n",
       "      <th></th>\n",
       "      <th>0</th>\n",
       "      <th>1</th>\n",
       "      <th>2</th>\n",
       "      <th>3</th>\n",
       "      <th>4</th>\n",
       "      <th>5</th>\n",
       "      <th>6</th>\n",
       "      <th>7</th>\n",
       "      <th>8</th>\n",
       "      <th>9</th>\n",
       "      <th>...</th>\n",
       "      <th>1500</th>\n",
       "      <th>1501</th>\n",
       "      <th>1502</th>\n",
       "      <th>1503</th>\n",
       "      <th>1504</th>\n",
       "      <th>1505</th>\n",
       "      <th>1506</th>\n",
       "      <th>1507</th>\n",
       "      <th>1508</th>\n",
       "      <th>1509</th>\n",
       "    </tr>\n",
       "  </thead>\n",
       "  <tbody>\n",
       "    <tr>\n",
       "      <th>0</th>\n",
       "      <td>0</td>\n",
       "      <td>0</td>\n",
       "      <td>0</td>\n",
       "      <td>0</td>\n",
       "      <td>0</td>\n",
       "      <td>0</td>\n",
       "      <td>0</td>\n",
       "      <td>0</td>\n",
       "      <td>0</td>\n",
       "      <td>0</td>\n",
       "      <td>...</td>\n",
       "      <td>0</td>\n",
       "      <td>0</td>\n",
       "      <td>0</td>\n",
       "      <td>0</td>\n",
       "      <td>0</td>\n",
       "      <td>0</td>\n",
       "      <td>0</td>\n",
       "      <td>0</td>\n",
       "      <td>0</td>\n",
       "      <td>0</td>\n",
       "    </tr>\n",
       "    <tr>\n",
       "      <th>1</th>\n",
       "      <td>0</td>\n",
       "      <td>0</td>\n",
       "      <td>0</td>\n",
       "      <td>0</td>\n",
       "      <td>0</td>\n",
       "      <td>0</td>\n",
       "      <td>0</td>\n",
       "      <td>0</td>\n",
       "      <td>0</td>\n",
       "      <td>0</td>\n",
       "      <td>...</td>\n",
       "      <td>0</td>\n",
       "      <td>0</td>\n",
       "      <td>0</td>\n",
       "      <td>0</td>\n",
       "      <td>0</td>\n",
       "      <td>0</td>\n",
       "      <td>0</td>\n",
       "      <td>0</td>\n",
       "      <td>0</td>\n",
       "      <td>0</td>\n",
       "    </tr>\n",
       "  </tbody>\n",
       "</table>\n",
       "<p>2 rows × 1510 columns</p>\n",
       "</div>"
      ],
      "text/plain": [
       "   0  1  2  3  4  5  6  7  8  9  ...   1500  1501  1502  1503  1504  1505  \\\n",
       "0  0  0  0  0  0  0  0  0  0  0  ...      0     0     0     0     0     0   \n",
       "1  0  0  0  0  0  0  0  0  0  0  ...      0     0     0     0     0     0   \n",
       "\n",
       "   1506  1507  1508  1509  \n",
       "0     0     0     0     0  \n",
       "1     0     0     0     0  \n",
       "\n",
       "[2 rows x 1510 columns]"
      ]
     },
     "execution_count": 31,
     "metadata": {},
     "output_type": "execute_result"
    }
   ],
   "source": [
    "X_df8.head(2)"
   ]
  },
  {
   "cell_type": "code",
   "execution_count": 32,
   "metadata": {
    "collapsed": false
   },
   "outputs": [
    {
     "data": {
      "text/plain": [
       "[<matplotlib.lines.Line2D at 0xcd97940>]"
      ]
     },
     "execution_count": 32,
     "metadata": {},
     "output_type": "execute_result"
    },
    {
     "data": {
      "image/png": "[encoded data removed]",
      "text/plain": [
       "<matplotlib.figure.Figure at 0xcbaaeb8>"
      ]
     },
     "metadata": {},
     "output_type": "display_data"
    }
   ],
   "source": [
    "# X8(sparse only) 사용결과\n",
    "i_range=[]\n",
    "score_range=[]\n",
    "\n",
    "for i in np.arange(-1, 4, 0.1):\n",
    "    clf = MultinomialNB(alpha=i).fit(X8, y)\n",
    "    clf_predicted = clf.predict(X8)\n",
    "    score =  np.mean(clf_predicted == y)\n",
    "    #print(i,'  ', score)\n",
    "    \n",
    "    i_range.append(i)\n",
    "    score_range.append(score)\n",
    "\n",
    "plt.figure(figsize=(15, 5))\n",
    "plt.plot(i_range, score_range, 'b^--')"
   ]
  },
  {
   "cell_type": "code",
   "execution_count": null,
   "metadata": {
    "collapsed": true
   },
   "outputs": [],
   "source": []
  }
 ],
 "metadata": {
  "kernelspec": {
   "display_name": "Python 2",
   "language": "python",
   "name": "python2"
  },
  "language_info": {
   "codemirror_mode": {
    "name": "ipython",
    "version": 2
   },
   "file_extension": ".py",
   "mimetype": "text/x-python",
   "name": "python",
   "nbconvert_exporter": "python",
   "pygments_lexer": "ipython2",
   "version": "2.7.11"
  }
 },
 "nbformat": 4,
 "nbformat_minor": 0
}
