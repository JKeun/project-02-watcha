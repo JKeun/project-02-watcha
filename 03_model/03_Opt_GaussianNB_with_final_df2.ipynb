{
 "cells": [
  {
   "cell_type": "code",
   "execution_count": 1,
   "metadata": {
    "collapsed": false
   },
   "outputs": [
    {
     "data": {
      "text/html": [
       "<div>\n",
       "<table border=\"1\" class=\"dataframe\">\n",
       "  <thead>\n",
       "    <tr style=\"text-align: right;\">\n",
       "      <th></th>\n",
       "      <th>avg_rating</th>\n",
       "      <th>lee_rating</th>\n",
       "      <th>eval_count</th>\n",
       "      <th>wish_count</th>\n",
       "      <th>cmt_count</th>\n",
       "      <th>run_time</th>\n",
       "      <th>year</th>\n",
       "      <th>std</th>\n",
       "      <th>skew</th>\n",
       "    </tr>\n",
       "  </thead>\n",
       "  <tbody>\n",
       "    <tr>\n",
       "      <th>0</th>\n",
       "      <td>4.22683</td>\n",
       "      <td>4</td>\n",
       "      <td>13025</td>\n",
       "      <td>9796</td>\n",
       "      <td>2585</td>\n",
       "      <td>128</td>\n",
       "      <td>2015</td>\n",
       "      <td>0.625521</td>\n",
       "      <td>-1.002260</td>\n",
       "    </tr>\n",
       "    <tr>\n",
       "      <th>1</th>\n",
       "      <td>2.99629</td>\n",
       "      <td>3</td>\n",
       "      <td>58122</td>\n",
       "      <td>3166</td>\n",
       "      <td>965</td>\n",
       "      <td>121</td>\n",
       "      <td>2013</td>\n",
       "      <td>1.059023</td>\n",
       "      <td>-0.347552</td>\n",
       "    </tr>\n",
       "  </tbody>\n",
       "</table>\n",
       "</div>"
      ],
      "text/plain": [
       "   avg_rating  lee_rating  eval_count  wish_count  cmt_count  run_time  year  \\\n",
       "0     4.22683           4       13025        9796       2585       128  2015   \n",
       "1     2.99629           3       58122        3166        965       121  2013   \n",
       "\n",
       "        std      skew  \n",
       "0  0.625521 -1.002260  \n",
       "1  1.059023 -0.347552  "
      ]
     },
     "execution_count": 1,
     "metadata": {},
     "output_type": "execute_result"
    }
   ],
   "source": [
    "df = pd.read_csv('../resource/final_df2.csv')\n",
    "y = df['rating(y)'].values\n",
    "real_X = df.ix[:,'avg_rating':'skew']\n",
    "real_X.head(2)"
   ]
  },
  {
   "cell_type": "code",
   "execution_count": 2,
   "metadata": {
    "collapsed": true
   },
   "outputs": [],
   "source": [
    "from sklearn.cross_validation import KFold, StratifiedKFold\n",
    "from sklearn.naive_bayes import GaussianNB\n",
    "from sklearn.metrics import mean_absolute_error\n",
    "import itertools\n",
    "\n",
    "gnb = GaussianNB()\n",
    "cv = StratifiedKFold(y, n_folds=3, random_state=0)"
   ]
  },
  {
   "cell_type": "code",
   "execution_count": 3,
   "metadata": {
    "collapsed": false
   },
   "outputs": [
    {
     "name": "stdout",
     "output_type": "stream",
     "text": [
      "mean: 1.0493     [ 1.03825137  1.12087912  0.98882682]\n"
     ]
    }
   ],
   "source": [
    "scores = np.zeros(3)\n",
    "for i, (train_idx, test_idx) in enumerate(cv):\n",
    "    X_train = real_X.ix[train_idx]\n",
    "    y_train = y[train_idx]\n",
    "    X_test = real_X.ix[test_idx]\n",
    "    y_test = y[test_idx]\n",
    "    \n",
    "    gnb.fit(X_train, y_train)\n",
    "    y_pred = gnb.predict(X_test)\n",
    "    \n",
    "    scores[i] = mean_absolute_error(y_test, y_pred)\n",
    "\n",
    "scores\n",
    "print('mean:', round(np.mean(scores), 4), '   ', scores)"
   ]
  },
  {
   "cell_type": "code",
   "execution_count": 4,
   "metadata": {
    "collapsed": false
   },
   "outputs": [],
   "source": [
    "combi_df1 = pd.DataFrame(columns=['combi', 'mean', 'scores'])\n",
    "\n",
    "for c in range(9):\n",
    "    new_X = real_X[[c]]\n",
    "    \n",
    "    scores = np.zeros(3)\n",
    "    for i, (train_idx, test_idx) in enumerate(cv):\n",
    "        X_train = new_X.ix[train_idx]\n",
    "        y_train = y[train_idx]\n",
    "        X_test = new_X.ix[test_idx]\n",
    "        y_test = y[test_idx]\n",
    "    \n",
    "        gnb.fit(X_train, y_train)\n",
    "        y_pred = gnb.predict(X_test)\n",
    "    \n",
    "        scores[i] = mean_absolute_error(y_test, y_pred)\n",
    "\n",
    "    scores\n",
    "    combi_df1.loc[len(combi_df1)] = [c, round(np.mean(scores), 4), scores]\n",
    "    #print(c, 'mean:', round(np.mean(scores), 4), '   ', scores)"
   ]
  },
  {
   "cell_type": "code",
   "execution_count": 5,
   "metadata": {
    "collapsed": false
   },
   "outputs": [
    {
     "name": "stdout",
     "output_type": "stream",
     "text": [
      "9\n"
     ]
    },
    {
     "data": {
      "text/html": [
       "<div>\n",
       "<table border=\"1\" class=\"dataframe\">\n",
       "  <thead>\n",
       "    <tr style=\"text-align: right;\">\n",
       "      <th></th>\n",
       "      <th>combi</th>\n",
       "      <th>mean</th>\n",
       "      <th>scores</th>\n",
       "    </tr>\n",
       "  </thead>\n",
       "  <tbody>\n",
       "    <tr>\n",
       "      <th>0</th>\n",
       "      <td>0</td>\n",
       "      <td>0.6374</td>\n",
       "      <td>[0.655737704918, 0.692307692308, 0.564245810056]</td>\n",
       "    </tr>\n",
       "    <tr>\n",
       "      <th>8</th>\n",
       "      <td>8</td>\n",
       "      <td>0.6414</td>\n",
       "      <td>[0.633879781421, 0.67032967033, 0.620111731844]</td>\n",
       "    </tr>\n",
       "    <tr>\n",
       "      <th>7</th>\n",
       "      <td>7</td>\n",
       "      <td>0.7570</td>\n",
       "      <td>[0.79781420765, 0.758241758242, 0.715083798883]</td>\n",
       "    </tr>\n",
       "    <tr>\n",
       "      <th>5</th>\n",
       "      <td>5</td>\n",
       "      <td>0.7867</td>\n",
       "      <td>[0.814207650273, 0.763736263736, 0.782122905028]</td>\n",
       "    </tr>\n",
       "    <tr>\n",
       "      <th>6</th>\n",
       "      <td>6</td>\n",
       "      <td>0.8310</td>\n",
       "      <td>[0.825136612022, 0.818681318681, 0.849162011173]</td>\n",
       "    </tr>\n",
       "  </tbody>\n",
       "</table>\n",
       "</div>"
      ],
      "text/plain": [
       "   combi    mean                                            scores\n",
       "0      0  0.6374  [0.655737704918, 0.692307692308, 0.564245810056]\n",
       "8      8  0.6414   [0.633879781421, 0.67032967033, 0.620111731844]\n",
       "7      7  0.7570   [0.79781420765, 0.758241758242, 0.715083798883]\n",
       "5      5  0.7867  [0.814207650273, 0.763736263736, 0.782122905028]\n",
       "6      6  0.8310  [0.825136612022, 0.818681318681, 0.849162011173]"
      ]
     },
     "execution_count": 5,
     "metadata": {},
     "output_type": "execute_result"
    }
   ],
   "source": [
    "print(len(combi_df1))\n",
    "combi_df1.sort_values('mean', ascending=True).head(5)"
   ]
  },
  {
   "cell_type": "code",
   "execution_count": 6,
   "metadata": {
    "collapsed": true
   },
   "outputs": [],
   "source": [
    "combi_df2 = pd.DataFrame(columns=['combi', 'mean', 'scores'])\n",
    "\n",
    "idx_list = list(itertools.combinations(range(9), 2))\n",
    "for idx in idx_list:\n",
    "    new_X = real_X[list(idx)]\n",
    "    \n",
    "    scores = np.zeros(3)\n",
    "    for i, (train_idx, test_idx) in enumerate(cv):\n",
    "        X_train = new_X.ix[train_idx]\n",
    "        y_train = y[train_idx]\n",
    "        X_test = new_X.ix[test_idx]\n",
    "        y_test = y[test_idx]\n",
    "    \n",
    "        gnb.fit(X_train, y_train)\n",
    "        y_pred = gnb.predict(X_test)\n",
    "    \n",
    "        scores[i] = mean_absolute_error(y_test, y_pred)\n",
    "\n",
    "    scores\n",
    "    combi_df2.loc[len(combi_df2)] = [idx, round(np.mean(scores), 4), scores]\n",
    "    #print(idx, 'mean:', round(np.mean(scores), 4), '   ', scores)"
   ]
  },
  {
   "cell_type": "code",
   "execution_count": 7,
   "metadata": {
    "collapsed": false,
    "scrolled": true
   },
   "outputs": [
    {
     "name": "stdout",
     "output_type": "stream",
     "text": [
      "36\n"
     ]
    },
    {
     "data": {
      "text/html": [
       "<div>\n",
       "<table border=\"1\" class=\"dataframe\">\n",
       "  <thead>\n",
       "    <tr style=\"text-align: right;\">\n",
       "      <th></th>\n",
       "      <th>combi</th>\n",
       "      <th>mean</th>\n",
       "      <th>scores</th>\n",
       "    </tr>\n",
       "  </thead>\n",
       "  <tbody>\n",
       "    <tr>\n",
       "      <th>4</th>\n",
       "      <td>(0, 5)</td>\n",
       "      <td>0.6541</td>\n",
       "      <td>[0.661202185792, 0.708791208791, 0.59217877095]</td>\n",
       "    </tr>\n",
       "    <tr>\n",
       "      <th>5</th>\n",
       "      <td>(0, 6)</td>\n",
       "      <td>0.6559</td>\n",
       "      <td>[0.661202185792, 0.708791208791, 0.597765363128]</td>\n",
       "    </tr>\n",
       "    <tr>\n",
       "      <th>32</th>\n",
       "      <td>(5, 8)</td>\n",
       "      <td>0.6762</td>\n",
       "      <td>[0.68306010929, 0.708791208791, 0.63687150838]</td>\n",
       "    </tr>\n",
       "    <tr>\n",
       "      <th>34</th>\n",
       "      <td>(6, 8)</td>\n",
       "      <td>0.6912</td>\n",
       "      <td>[0.693989071038, 0.686813186813, 0.692737430168]</td>\n",
       "    </tr>\n",
       "    <tr>\n",
       "      <th>0</th>\n",
       "      <td>(0, 1)</td>\n",
       "      <td>0.6913</td>\n",
       "      <td>[0.628415300546, 0.752747252747, 0.692737430168]</td>\n",
       "    </tr>\n",
       "  </tbody>\n",
       "</table>\n",
       "</div>"
      ],
      "text/plain": [
       "     combi    mean                                            scores\n",
       "4   (0, 5)  0.6541   [0.661202185792, 0.708791208791, 0.59217877095]\n",
       "5   (0, 6)  0.6559  [0.661202185792, 0.708791208791, 0.597765363128]\n",
       "32  (5, 8)  0.6762    [0.68306010929, 0.708791208791, 0.63687150838]\n",
       "34  (6, 8)  0.6912  [0.693989071038, 0.686813186813, 0.692737430168]\n",
       "0   (0, 1)  0.6913  [0.628415300546, 0.752747252747, 0.692737430168]"
      ]
     },
     "execution_count": 7,
     "metadata": {},
     "output_type": "execute_result"
    }
   ],
   "source": [
    "print(len(combi_df2))\n",
    "combi_df2.sort_values('mean', ascending=True).head(5)"
   ]
  },
  {
   "cell_type": "code",
   "execution_count": 8,
   "metadata": {
    "collapsed": true
   },
   "outputs": [],
   "source": [
    "combi_df3 = pd.DataFrame(columns=['combi', 'mean', 'scores'])\n",
    "\n",
    "idx_list = list(itertools.combinations(range(9), 3))\n",
    "for idx in idx_list:\n",
    "    new_X = real_X[list(idx)]\n",
    "    \n",
    "    scores = np.zeros(3)\n",
    "    for i, (train_idx, test_idx) in enumerate(cv):\n",
    "        X_train = new_X.ix[train_idx]\n",
    "        y_train = y[train_idx]\n",
    "        X_test = new_X.ix[test_idx]\n",
    "        y_test = y[test_idx]\n",
    "    \n",
    "        gnb.fit(X_train, y_train)\n",
    "        y_pred = gnb.predict(X_test)\n",
    "    \n",
    "        scores[i] = mean_absolute_error(y_test, y_pred)\n",
    "\n",
    "    scores\n",
    "    combi_df3.loc[len(combi_df3)] = [idx, round(np.mean(scores), 4), scores]\n",
    "    #print(idx, 'mean:', round(np.mean(scores), 4), '   ', scores)"
   ]
  },
  {
   "cell_type": "code",
   "execution_count": 9,
   "metadata": {
    "collapsed": false
   },
   "outputs": [
    {
     "name": "stdout",
     "output_type": "stream",
     "text": [
      "84\n"
     ]
    },
    {
     "data": {
      "text/html": [
       "<div>\n",
       "<table border=\"1\" class=\"dataframe\">\n",
       "  <thead>\n",
       "    <tr style=\"text-align: right;\">\n",
       "      <th></th>\n",
       "      <th>combi</th>\n",
       "      <th>mean</th>\n",
       "      <th>scores</th>\n",
       "    </tr>\n",
       "  </thead>\n",
       "  <tbody>\n",
       "    <tr>\n",
       "      <th>22</th>\n",
       "      <td>(0, 5, 6)</td>\n",
       "      <td>0.6633</td>\n",
       "      <td>[0.666666666667, 0.708791208791, 0.614525139665]</td>\n",
       "    </tr>\n",
       "    <tr>\n",
       "      <th>26</th>\n",
       "      <td>(0, 6, 8)</td>\n",
       "      <td>0.6910</td>\n",
       "      <td>[0.688524590164, 0.71978021978, 0.664804469274]</td>\n",
       "    </tr>\n",
       "    <tr>\n",
       "      <th>3</th>\n",
       "      <td>(0, 1, 5)</td>\n",
       "      <td>0.6928</td>\n",
       "      <td>[0.677595628415, 0.758241758242, 0.642458100559]</td>\n",
       "    </tr>\n",
       "    <tr>\n",
       "      <th>82</th>\n",
       "      <td>(5, 7, 8)</td>\n",
       "      <td>0.6967</td>\n",
       "      <td>[0.710382513661, 0.675824175824, 0.703910614525]</td>\n",
       "    </tr>\n",
       "    <tr>\n",
       "      <th>4</th>\n",
       "      <td>(0, 1, 6)</td>\n",
       "      <td>0.6970</td>\n",
       "      <td>[0.655737704918, 0.703296703297, 0.731843575419]</td>\n",
       "    </tr>\n",
       "  </tbody>\n",
       "</table>\n",
       "</div>"
      ],
      "text/plain": [
       "        combi    mean                                            scores\n",
       "22  (0, 5, 6)  0.6633  [0.666666666667, 0.708791208791, 0.614525139665]\n",
       "26  (0, 6, 8)  0.6910   [0.688524590164, 0.71978021978, 0.664804469274]\n",
       "3   (0, 1, 5)  0.6928  [0.677595628415, 0.758241758242, 0.642458100559]\n",
       "82  (5, 7, 8)  0.6967  [0.710382513661, 0.675824175824, 0.703910614525]\n",
       "4   (0, 1, 6)  0.6970  [0.655737704918, 0.703296703297, 0.731843575419]"
      ]
     },
     "execution_count": 9,
     "metadata": {},
     "output_type": "execute_result"
    }
   ],
   "source": [
    "print(len(combi_df3))\n",
    "combi_df3.sort_values('mean').head(5)"
   ]
  },
  {
   "cell_type": "code",
   "execution_count": 10,
   "metadata": {
    "collapsed": true
   },
   "outputs": [],
   "source": [
    "combi_df4 = pd.DataFrame(columns=['combi', 'mean', 'scores'])\n",
    "\n",
    "idx_list = list(itertools.combinations(range(9), 4))\n",
    "for idx in idx_list:\n",
    "    new_X = real_X[list(idx)]\n",
    "    \n",
    "    scores = np.zeros(3)\n",
    "    for i, (train_idx, test_idx) in enumerate(cv):\n",
    "        X_train = new_X.ix[train_idx]\n",
    "        y_train = y[train_idx]\n",
    "        X_test = new_X.ix[test_idx]\n",
    "        y_test = y[test_idx]\n",
    "    \n",
    "        gnb.fit(X_train, y_train)\n",
    "        y_pred = gnb.predict(X_test)\n",
    "    \n",
    "        scores[i] = mean_absolute_error(y_test, y_pred)\n",
    "\n",
    "    scores\n",
    "    combi_df4.loc[len(combi_df4)] = [idx, round(np.mean(scores), 4), scores]"
   ]
  },
  {
   "cell_type": "code",
   "execution_count": 11,
   "metadata": {
    "collapsed": false
   },
   "outputs": [
    {
     "name": "stdout",
     "output_type": "stream",
     "text": [
      "126\n"
     ]
    },
    {
     "data": {
      "text/html": [
       "<div>\n",
       "<table border=\"1\" class=\"dataframe\">\n",
       "  <thead>\n",
       "    <tr style=\"text-align: right;\">\n",
       "      <th></th>\n",
       "      <th>combi</th>\n",
       "      <th>mean</th>\n",
       "      <th>scores</th>\n",
       "    </tr>\n",
       "  </thead>\n",
       "  <tbody>\n",
       "    <tr>\n",
       "      <th>15</th>\n",
       "      <td>(0, 1, 5, 6)</td>\n",
       "      <td>0.7040</td>\n",
       "      <td>[0.672131147541, 0.758241758242, 0.68156424581]</td>\n",
       "    </tr>\n",
       "    <tr>\n",
       "      <th>16</th>\n",
       "      <td>(0, 1, 5, 7)</td>\n",
       "      <td>0.7111</td>\n",
       "      <td>[0.72131147541, 0.747252747253, 0.664804469274]</td>\n",
       "    </tr>\n",
       "    <tr>\n",
       "      <th>55</th>\n",
       "      <td>(0, 6, 7, 8)</td>\n",
       "      <td>0.7130</td>\n",
       "      <td>[0.732240437158, 0.730769230769, 0.675977653631]</td>\n",
       "    </tr>\n",
       "    <tr>\n",
       "      <th>53</th>\n",
       "      <td>(0, 5, 6, 8)</td>\n",
       "      <td>0.7132</td>\n",
       "      <td>[0.699453551913, 0.736263736264, 0.703910614525]</td>\n",
       "    </tr>\n",
       "    <tr>\n",
       "      <th>54</th>\n",
       "      <td>(0, 5, 7, 8)</td>\n",
       "      <td>0.7188</td>\n",
       "      <td>[0.737704918033, 0.686813186813, 0.731843575419]</td>\n",
       "    </tr>\n",
       "  </tbody>\n",
       "</table>\n",
       "</div>"
      ],
      "text/plain": [
       "           combi    mean                                            scores\n",
       "15  (0, 1, 5, 6)  0.7040   [0.672131147541, 0.758241758242, 0.68156424581]\n",
       "16  (0, 1, 5, 7)  0.7111   [0.72131147541, 0.747252747253, 0.664804469274]\n",
       "55  (0, 6, 7, 8)  0.7130  [0.732240437158, 0.730769230769, 0.675977653631]\n",
       "53  (0, 5, 6, 8)  0.7132  [0.699453551913, 0.736263736264, 0.703910614525]\n",
       "54  (0, 5, 7, 8)  0.7188  [0.737704918033, 0.686813186813, 0.731843575419]"
      ]
     },
     "execution_count": 11,
     "metadata": {},
     "output_type": "execute_result"
    }
   ],
   "source": [
    "print(len(combi_df4))\n",
    "combi_df4.sort_values('mean').head(5)"
   ]
  },
  {
   "cell_type": "code",
   "execution_count": 12,
   "metadata": {
    "collapsed": true
   },
   "outputs": [],
   "source": [
    "combi_df5 = pd.DataFrame(columns=['combi', 'mean', 'scores'])\n",
    "\n",
    "idx_list = list(itertools.combinations(range(9), 5))\n",
    "for idx in idx_list:\n",
    "    new_X = real_X[list(idx)]\n",
    "    \n",
    "    scores = np.zeros(3)\n",
    "    for i, (train_idx, test_idx) in enumerate(cv):\n",
    "        X_train = new_X.ix[train_idx]\n",
    "        y_train = y[train_idx]\n",
    "        X_test = new_X.ix[test_idx]\n",
    "        y_test = y[test_idx]\n",
    "    \n",
    "        gnb.fit(X_train, y_train)\n",
    "        y_pred = gnb.predict(X_test)\n",
    "    \n",
    "        scores[i] = mean_absolute_error(y_test, y_pred)\n",
    "\n",
    "    scores\n",
    "    combi_df5.loc[len(combi_df5)] = [idx, round(np.mean(scores), 4), scores]"
   ]
  },
  {
   "cell_type": "code",
   "execution_count": 13,
   "metadata": {
    "collapsed": false
   },
   "outputs": [
    {
     "name": "stdout",
     "output_type": "stream",
     "text": [
      "126\n"
     ]
    },
    {
     "data": {
      "text/html": [
       "<div>\n",
       "<table border=\"1\" class=\"dataframe\">\n",
       "  <thead>\n",
       "    <tr style=\"text-align: right;\">\n",
       "      <th></th>\n",
       "      <th>combi</th>\n",
       "      <th>mean</th>\n",
       "      <th>scores</th>\n",
       "    </tr>\n",
       "  </thead>\n",
       "  <tbody>\n",
       "    <tr>\n",
       "      <th>32</th>\n",
       "      <td>(0, 1, 5, 6, 8)</td>\n",
       "      <td>0.7098</td>\n",
       "      <td>[0.655737704918, 0.730769230769, 0.743016759777]</td>\n",
       "    </tr>\n",
       "    <tr>\n",
       "      <th>69</th>\n",
       "      <td>(0, 5, 6, 7, 8)</td>\n",
       "      <td>0.7297</td>\n",
       "      <td>[0.743169398907, 0.725274725275, 0.720670391061]</td>\n",
       "    </tr>\n",
       "    <tr>\n",
       "      <th>31</th>\n",
       "      <td>(0, 1, 5, 6, 7)</td>\n",
       "      <td>0.7298</td>\n",
       "      <td>[0.68306010929, 0.796703296703, 0.709497206704]</td>\n",
       "    </tr>\n",
       "    <tr>\n",
       "      <th>33</th>\n",
       "      <td>(0, 1, 5, 7, 8)</td>\n",
       "      <td>0.7300</td>\n",
       "      <td>[0.704918032787, 0.730769230769, 0.754189944134]</td>\n",
       "    </tr>\n",
       "    <tr>\n",
       "      <th>104</th>\n",
       "      <td>(1, 5, 6, 7, 8)</td>\n",
       "      <td>0.7317</td>\n",
       "      <td>[0.688524590164, 0.769230769231, 0.737430167598]</td>\n",
       "    </tr>\n",
       "  </tbody>\n",
       "</table>\n",
       "</div>"
      ],
      "text/plain": [
       "               combi    mean                                            scores\n",
       "32   (0, 1, 5, 6, 8)  0.7098  [0.655737704918, 0.730769230769, 0.743016759777]\n",
       "69   (0, 5, 6, 7, 8)  0.7297  [0.743169398907, 0.725274725275, 0.720670391061]\n",
       "31   (0, 1, 5, 6, 7)  0.7298   [0.68306010929, 0.796703296703, 0.709497206704]\n",
       "33   (0, 1, 5, 7, 8)  0.7300  [0.704918032787, 0.730769230769, 0.754189944134]\n",
       "104  (1, 5, 6, 7, 8)  0.7317  [0.688524590164, 0.769230769231, 0.737430167598]"
      ]
     },
     "execution_count": 13,
     "metadata": {},
     "output_type": "execute_result"
    }
   ],
   "source": [
    "print(len(combi_df5))\n",
    "combi_df5.sort_values('mean').head(5)"
   ]
  },
  {
   "cell_type": "code",
   "execution_count": 14,
   "metadata": {
    "collapsed": true
   },
   "outputs": [],
   "source": [
    "combi_df6 = pd.DataFrame(columns=['combi', 'mean', 'scores'])\n",
    "\n",
    "idx_list = list(itertools.combinations(range(9), 6))\n",
    "for idx in idx_list:\n",
    "    new_X = real_X[list(idx)]\n",
    "    \n",
    "    scores = np.zeros(3)\n",
    "    for i, (train_idx, test_idx) in enumerate(cv):\n",
    "        X_train = new_X.ix[train_idx]\n",
    "        y_train = y[train_idx]\n",
    "        X_test = new_X.ix[test_idx]\n",
    "        y_test = y[test_idx]\n",
    "    \n",
    "        gnb.fit(X_train, y_train)\n",
    "        y_pred = gnb.predict(X_test)\n",
    "    \n",
    "        scores[i] = mean_absolute_error(y_test, y_pred)\n",
    "\n",
    "    scores\n",
    "    combi_df6.loc[len(combi_df6)] = [idx, round(np.mean(scores), 4), scores]"
   ]
  },
  {
   "cell_type": "code",
   "execution_count": 15,
   "metadata": {
    "collapsed": false
   },
   "outputs": [
    {
     "name": "stdout",
     "output_type": "stream",
     "text": [
      "84\n"
     ]
    },
    {
     "data": {
      "text/html": [
       "<div>\n",
       "<table border=\"1\" class=\"dataframe\">\n",
       "  <thead>\n",
       "    <tr style=\"text-align: right;\">\n",
       "      <th></th>\n",
       "      <th>combi</th>\n",
       "      <th>mean</th>\n",
       "      <th>scores</th>\n",
       "    </tr>\n",
       "  </thead>\n",
       "  <tbody>\n",
       "    <tr>\n",
       "      <th>54</th>\n",
       "      <td>(0, 3, 5, 6, 7, 8)</td>\n",
       "      <td>0.7443</td>\n",
       "      <td>[0.737704918033, 0.78021978022, 0.715083798883]</td>\n",
       "    </tr>\n",
       "    <tr>\n",
       "      <th>34</th>\n",
       "      <td>(0, 1, 5, 6, 7, 8)</td>\n",
       "      <td>0.7483</td>\n",
       "      <td>[0.699453551913, 0.796703296703, 0.748603351955]</td>\n",
       "    </tr>\n",
       "    <tr>\n",
       "      <th>28</th>\n",
       "      <td>(0, 1, 3, 5, 7, 8)</td>\n",
       "      <td>0.7496</td>\n",
       "      <td>[0.79781420765, 0.758241758242, 0.692737430168]</td>\n",
       "    </tr>\n",
       "    <tr>\n",
       "      <th>27</th>\n",
       "      <td>(0, 1, 3, 5, 6, 8)</td>\n",
       "      <td>0.7591</td>\n",
       "      <td>[0.726775956284, 0.818681318681, 0.731843575419]</td>\n",
       "    </tr>\n",
       "    <tr>\n",
       "      <th>29</th>\n",
       "      <td>(0, 1, 3, 6, 7, 8)</td>\n",
       "      <td>0.7702</td>\n",
       "      <td>[0.732240437158, 0.824175824176, 0.754189944134]</td>\n",
       "    </tr>\n",
       "  </tbody>\n",
       "</table>\n",
       "</div>"
      ],
      "text/plain": [
       "                 combi    mean  \\\n",
       "54  (0, 3, 5, 6, 7, 8)  0.7443   \n",
       "34  (0, 1, 5, 6, 7, 8)  0.7483   \n",
       "28  (0, 1, 3, 5, 7, 8)  0.7496   \n",
       "27  (0, 1, 3, 5, 6, 8)  0.7591   \n",
       "29  (0, 1, 3, 6, 7, 8)  0.7702   \n",
       "\n",
       "                                              scores  \n",
       "54   [0.737704918033, 0.78021978022, 0.715083798883]  \n",
       "34  [0.699453551913, 0.796703296703, 0.748603351955]  \n",
       "28   [0.79781420765, 0.758241758242, 0.692737430168]  \n",
       "27  [0.726775956284, 0.818681318681, 0.731843575419]  \n",
       "29  [0.732240437158, 0.824175824176, 0.754189944134]  "
      ]
     },
     "execution_count": 15,
     "metadata": {},
     "output_type": "execute_result"
    }
   ],
   "source": [
    "print(len(combi_df6))\n",
    "combi_df6.sort_values('mean').head(5)"
   ]
  },
  {
   "cell_type": "code",
   "execution_count": 16,
   "metadata": {
    "collapsed": true
   },
   "outputs": [],
   "source": [
    "combi_df7 = pd.DataFrame(columns=['combi', 'mean', 'scores'])\n",
    "\n",
    "idx_list = list(itertools.combinations(range(9), 7))\n",
    "for idx in idx_list:\n",
    "    new_X = real_X[list(idx)]\n",
    "    \n",
    "    scores = np.zeros(3)\n",
    "    for i, (train_idx, test_idx) in enumerate(cv):\n",
    "        X_train = new_X.ix[train_idx]\n",
    "        y_train = y[train_idx]\n",
    "        X_test = new_X.ix[test_idx]\n",
    "        y_test = y[test_idx]\n",
    "    \n",
    "        gnb.fit(X_train, y_train)\n",
    "        y_pred = gnb.predict(X_test)\n",
    "    \n",
    "        scores[i] = mean_absolute_error(y_test, y_pred)\n",
    "\n",
    "    scores\n",
    "    combi_df7.loc[len(combi_df7)] = [idx, round(np.mean(scores), 4), scores]"
   ]
  },
  {
   "cell_type": "code",
   "execution_count": 17,
   "metadata": {
    "collapsed": false
   },
   "outputs": [
    {
     "name": "stdout",
     "output_type": "stream",
     "text": [
      "36\n"
     ]
    },
    {
     "data": {
      "text/html": [
       "<div>\n",
       "<table border=\"1\" class=\"dataframe\">\n",
       "  <thead>\n",
       "    <tr style=\"text-align: right;\">\n",
       "      <th></th>\n",
       "      <th>combi</th>\n",
       "      <th>mean</th>\n",
       "      <th>scores</th>\n",
       "    </tr>\n",
       "  </thead>\n",
       "  <tbody>\n",
       "    <tr>\n",
       "      <th>19</th>\n",
       "      <td>(0, 1, 3, 5, 6, 7, 8)</td>\n",
       "      <td>0.7591</td>\n",
       "      <td>[0.726775956284, 0.813186813187, 0.737430167598]</td>\n",
       "    </tr>\n",
       "    <tr>\n",
       "      <th>20</th>\n",
       "      <td>(0, 1, 4, 5, 6, 7, 8)</td>\n",
       "      <td>0.7883</td>\n",
       "      <td>[0.814207650273, 0.807692307692, 0.743016759777]</td>\n",
       "    </tr>\n",
       "    <tr>\n",
       "      <th>14</th>\n",
       "      <td>(0, 1, 2, 5, 6, 7, 8)</td>\n",
       "      <td>0.8255</td>\n",
       "      <td>[0.841530054645, 0.774725274725, 0.860335195531]</td>\n",
       "    </tr>\n",
       "    <tr>\n",
       "      <th>17</th>\n",
       "      <td>(0, 1, 3, 4, 5, 7, 8)</td>\n",
       "      <td>0.8635</td>\n",
       "      <td>[0.934426229508, 0.846153846154, 0.810055865922]</td>\n",
       "    </tr>\n",
       "    <tr>\n",
       "      <th>27</th>\n",
       "      <td>(0, 3, 4, 5, 6, 7, 8)</td>\n",
       "      <td>0.8678</td>\n",
       "      <td>[0.868852459016, 0.840659340659, 0.893854748603]</td>\n",
       "    </tr>\n",
       "  </tbody>\n",
       "</table>\n",
       "</div>"
      ],
      "text/plain": [
       "                    combi    mean  \\\n",
       "19  (0, 1, 3, 5, 6, 7, 8)  0.7591   \n",
       "20  (0, 1, 4, 5, 6, 7, 8)  0.7883   \n",
       "14  (0, 1, 2, 5, 6, 7, 8)  0.8255   \n",
       "17  (0, 1, 3, 4, 5, 7, 8)  0.8635   \n",
       "27  (0, 3, 4, 5, 6, 7, 8)  0.8678   \n",
       "\n",
       "                                              scores  \n",
       "19  [0.726775956284, 0.813186813187, 0.737430167598]  \n",
       "20  [0.814207650273, 0.807692307692, 0.743016759777]  \n",
       "14  [0.841530054645, 0.774725274725, 0.860335195531]  \n",
       "17  [0.934426229508, 0.846153846154, 0.810055865922]  \n",
       "27  [0.868852459016, 0.840659340659, 0.893854748603]  "
      ]
     },
     "execution_count": 17,
     "metadata": {},
     "output_type": "execute_result"
    }
   ],
   "source": [
    "print(len(combi_df7))\n",
    "combi_df7.sort_values('mean').head(5)"
   ]
  },
  {
   "cell_type": "code",
   "execution_count": 18,
   "metadata": {
    "collapsed": true
   },
   "outputs": [],
   "source": [
    "combi_df8 = pd.DataFrame(columns=['combi', 'mean', 'scores'])\n",
    "\n",
    "idx_list = list(itertools.combinations(range(9), 8))\n",
    "for idx in idx_list:\n",
    "    new_X = real_X[list(idx)]\n",
    "    \n",
    "    scores = np.zeros(3)\n",
    "    for i, (train_idx, test_idx) in enumerate(cv):\n",
    "        X_train = new_X.ix[train_idx]\n",
    "        y_train = y[train_idx]\n",
    "        X_test = new_X.ix[test_idx]\n",
    "        y_test = y[test_idx]\n",
    "    \n",
    "        gnb.fit(X_train, y_train)\n",
    "        y_pred = gnb.predict(X_test)\n",
    "    \n",
    "        scores[i] = mean_absolute_error(y_test, y_pred)\n",
    "\n",
    "    scores\n",
    "    combi_df8.loc[len(combi_df8)] = [idx, round(np.mean(scores), 4), scores]"
   ]
  },
  {
   "cell_type": "code",
   "execution_count": 19,
   "metadata": {
    "collapsed": false
   },
   "outputs": [
    {
     "name": "stdout",
     "output_type": "stream",
     "text": [
      "9\n"
     ]
    },
    {
     "data": {
      "text/html": [
       "<div>\n",
       "<table border=\"1\" class=\"dataframe\">\n",
       "  <thead>\n",
       "    <tr style=\"text-align: right;\">\n",
       "      <th></th>\n",
       "      <th>combi</th>\n",
       "      <th>mean</th>\n",
       "      <th>scores</th>\n",
       "    </tr>\n",
       "  </thead>\n",
       "  <tbody>\n",
       "    <tr>\n",
       "      <th>6</th>\n",
       "      <td>(0, 1, 3, 4, 5, 6, 7, 8)</td>\n",
       "      <td>0.8619</td>\n",
       "      <td>[0.852459016393, 0.912087912088, 0.821229050279]</td>\n",
       "    </tr>\n",
       "    <tr>\n",
       "      <th>4</th>\n",
       "      <td>(0, 1, 2, 3, 5, 6, 7, 8)</td>\n",
       "      <td>0.8840</td>\n",
       "      <td>[0.868852459016, 0.93956043956, 0.843575418994]</td>\n",
       "    </tr>\n",
       "    <tr>\n",
       "      <th>0</th>\n",
       "      <td>(0, 1, 2, 3, 4, 5, 6, 7)</td>\n",
       "      <td>1.0493</td>\n",
       "      <td>[1.03825136612, 1.12087912088, 0.988826815642]</td>\n",
       "    </tr>\n",
       "    <tr>\n",
       "      <th>1</th>\n",
       "      <td>(0, 1, 2, 3, 4, 5, 6, 8)</td>\n",
       "      <td>1.0493</td>\n",
       "      <td>[1.03825136612, 1.12087912088, 0.988826815642]</td>\n",
       "    </tr>\n",
       "    <tr>\n",
       "      <th>7</th>\n",
       "      <td>(0, 2, 3, 4, 5, 6, 7, 8)</td>\n",
       "      <td>1.0493</td>\n",
       "      <td>[1.03825136612, 1.12087912088, 0.988826815642]</td>\n",
       "    </tr>\n",
       "  </tbody>\n",
       "</table>\n",
       "</div>"
      ],
      "text/plain": [
       "                      combi    mean  \\\n",
       "6  (0, 1, 3, 4, 5, 6, 7, 8)  0.8619   \n",
       "4  (0, 1, 2, 3, 5, 6, 7, 8)  0.8840   \n",
       "0  (0, 1, 2, 3, 4, 5, 6, 7)  1.0493   \n",
       "1  (0, 1, 2, 3, 4, 5, 6, 8)  1.0493   \n",
       "7  (0, 2, 3, 4, 5, 6, 7, 8)  1.0493   \n",
       "\n",
       "                                             scores  \n",
       "6  [0.852459016393, 0.912087912088, 0.821229050279]  \n",
       "4   [0.868852459016, 0.93956043956, 0.843575418994]  \n",
       "0    [1.03825136612, 1.12087912088, 0.988826815642]  \n",
       "1    [1.03825136612, 1.12087912088, 0.988826815642]  \n",
       "7    [1.03825136612, 1.12087912088, 0.988826815642]  "
      ]
     },
     "execution_count": 19,
     "metadata": {},
     "output_type": "execute_result"
    }
   ],
   "source": [
    "print(len(combi_df8))\n",
    "combi_df8.sort_values('mean').head(5)"
   ]
  }
 ],
 "metadata": {
  "kernelspec": {
   "display_name": "Python 2",
   "language": "python",
   "name": "python2"
  },
  "language_info": {
   "codemirror_mode": {
    "name": "ipython",
    "version": 2
   },
   "file_extension": ".py",
   "mimetype": "text/x-python",
   "name": "python",
   "nbconvert_exporter": "python",
   "pygments_lexer": "ipython2",
   "version": "2.7.11"
  }
 },
 "nbformat": 4,
 "nbformat_minor": 0
}
