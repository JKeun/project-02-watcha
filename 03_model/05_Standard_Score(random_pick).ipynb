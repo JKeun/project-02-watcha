{
 "cells": [
  {
   "cell_type": "markdown",
   "metadata": {},
   "source": [
    "### 랜덤으로 pred할 때의 기준 스코어"
   ]
  },
  {
   "cell_type": "code",
   "execution_count": 18,
   "metadata": {
    "collapsed": false
   },
   "outputs": [],
   "source": [
    "x1 = np.random.randint(1,6,1000)\n",
    "x2 = np.random.randint(1,6,1000)"
   ]
  },
  {
   "cell_type": "code",
   "execution_count": 21,
   "metadata": {
    "collapsed": false
   },
   "outputs": [
    {
     "name": "stdout",
     "output_type": "stream",
     "text": [
      "mse :  4.065 \n",
      "mae :  1.613 \n",
      " r2 :  -1.01339788754\n"
     ]
    }
   ],
   "source": [
    "from sklearn.metrics import mean_squared_error, r2_score, mean_absolute_error\n",
    "mse = mean_squared_error(x1, x2)\n",
    "mae = mean_absolute_error(x1, x2)\n",
    "r2 = r2_score(x1, x2)\n",
    "print(\"mse : \", mse ,\n",
    "      \"\\nmae : \", mae,\n",
    "      \"\\n r2 : \", r2)"
   ]
  },
  {
   "cell_type": "code",
   "execution_count": 46,
   "metadata": {
    "collapsed": false
   },
   "outputs": [
    {
     "name": "stdout",
     "output_type": "stream",
     "text": [
      "mse_mean :  3.868\n",
      "mse_list :  [4.235, 3.846, 3.839, 3.809, 3.611]\n",
      "---------------------\n",
      "mae_mean :  1.558\n",
      "mae_list :  [1.641, 1.562, 1.551, 1.537, 1.499]\n",
      "---------------------\n",
      "r2_mean  :  -0.96284\n",
      "r2_list  :  [-1.1596, -0.9293, -0.9179, -0.98, -0.8274]\n"
     ]
    }
   ],
   "source": [
    "mse_list = []\n",
    "mae_list = []\n",
    "r2_list = []\n",
    "\n",
    "for _ in range(5):\n",
    "    x1 = np.random.randint(1,6,1000)\n",
    "    x2 = np.random.randint(1,6,1000)\n",
    "    \n",
    "    mse = mean_squared_error(x1, x2)\n",
    "    mae = mean_absolute_error(x1, x2)\n",
    "    r2 = r2_score(x1, x2)\n",
    "    \n",
    "    mse_list.append(round(mse, 4))\n",
    "    mae_list.append(round(mae, 4))\n",
    "    r2_list.append(round(r2, 4))\n",
    "\n",
    "print(\"mse_mean : \", np.mean(mse_list))\n",
    "print(\"mse_list : \", mse_list)\n",
    "print('---------------------')\n",
    "print(\"mae_mean : \", np.mean(mae_list))\n",
    "print(\"mae_list : \", mae_list)\n",
    "print('---------------------')\n",
    "print(\"r2_mean  : \", np.mean(r2_list))\n",
    "print(\"r2_list  : \", r2_list)\n"
   ]
  },
  {
   "cell_type": "code",
   "execution_count": null,
   "metadata": {
    "collapsed": true
   },
   "outputs": [],
   "source": []
  }
 ],
 "metadata": {
  "kernelspec": {
   "display_name": "Python 2",
   "language": "python",
   "name": "python2"
  },
  "language_info": {
   "codemirror_mode": {
    "name": "ipython",
    "version": 2
   },
   "file_extension": ".py",
   "mimetype": "text/x-python",
   "name": "python",
   "nbconvert_exporter": "python",
   "pygments_lexer": "ipython2",
   "version": "2.7.11"
  }
 },
 "nbformat": 4,
 "nbformat_minor": 0
}
