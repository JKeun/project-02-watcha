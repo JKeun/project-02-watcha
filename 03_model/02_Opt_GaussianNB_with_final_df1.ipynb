{
 "cells": [
  {
   "cell_type": "markdown",
   "metadata": {},
   "source": [
    "# Gaussian NB (real var)\n",
    "* opt feature selection : 'avg_rating'"
   ]
  },
  {
   "cell_type": "markdown",
   "metadata": {},
   "source": [
    "### 17 combination 경우의 수"
   ]
  },
  {
   "cell_type": "code",
   "execution_count": 1,
   "metadata": {
    "collapsed": false
   },
   "outputs": [
    {
     "name": "stdout",
     "output_type": "stream",
     "text": [
      "1 17.0\n",
      "2 136.0\n",
      "3 680.0\n",
      "4 2380.0\n",
      "5 6188.0\n",
      "6 12376.0\n",
      "7 19448.0\n",
      "8 24310.0\n",
      "9 24310.0\n",
      "10 19448.0\n",
      "11 12376.0\n",
      "12 6188.0\n",
      "13 2380.0\n",
      "14 680.0\n",
      "15 136.0\n",
      "16 17.0\n",
      "17 1.0\n"
     ]
    }
   ],
   "source": [
    "from scipy import misc\n",
    "for i in range(1, 18):\n",
    "    print(i, misc.comb(17, i))"
   ]
  },
  {
   "cell_type": "code",
   "execution_count": 2,
   "metadata": {
    "collapsed": false
   },
   "outputs": [
    {
     "data": {
      "text/html": [
       "<div>\n",
       "<table border=\"1\" class=\"dataframe\">\n",
       "  <thead>\n",
       "    <tr style=\"text-align: right;\">\n",
       "      <th></th>\n",
       "      <th>avg_rating</th>\n",
       "      <th>lee_rating</th>\n",
       "      <th>eval_count</th>\n",
       "      <th>wish_count</th>\n",
       "      <th>cmt_count</th>\n",
       "      <th>run_time</th>\n",
       "      <th>year</th>\n",
       "      <th>star0.5</th>\n",
       "      <th>star1</th>\n",
       "      <th>star1.5</th>\n",
       "      <th>star2</th>\n",
       "      <th>star2.5</th>\n",
       "      <th>star3</th>\n",
       "      <th>star3.5</th>\n",
       "      <th>star4</th>\n",
       "      <th>star4.5</th>\n",
       "      <th>star5</th>\n",
       "    </tr>\n",
       "  </thead>\n",
       "  <tbody>\n",
       "    <tr>\n",
       "      <th>0</th>\n",
       "      <td>4.22683</td>\n",
       "      <td>4</td>\n",
       "      <td>13025</td>\n",
       "      <td>9796</td>\n",
       "      <td>2585</td>\n",
       "      <td>128</td>\n",
       "      <td>2015</td>\n",
       "      <td>7</td>\n",
       "      <td>10</td>\n",
       "      <td>14</td>\n",
       "      <td>83</td>\n",
       "      <td>50</td>\n",
       "      <td>1472</td>\n",
       "      <td>454</td>\n",
       "      <td>4509</td>\n",
       "      <td>4318</td>\n",
       "      <td>2108</td>\n",
       "    </tr>\n",
       "    <tr>\n",
       "      <th>1</th>\n",
       "      <td>2.99629</td>\n",
       "      <td>3</td>\n",
       "      <td>58122</td>\n",
       "      <td>3166</td>\n",
       "      <td>965</td>\n",
       "      <td>121</td>\n",
       "      <td>2013</td>\n",
       "      <td>1312</td>\n",
       "      <td>2238</td>\n",
       "      <td>2150</td>\n",
       "      <td>6749</td>\n",
       "      <td>6597</td>\n",
       "      <td>9397</td>\n",
       "      <td>16842</td>\n",
       "      <td>1367</td>\n",
       "      <td>9011</td>\n",
       "      <td>2459</td>\n",
       "    </tr>\n",
       "  </tbody>\n",
       "</table>\n",
       "</div>"
      ],
      "text/plain": [
       "   avg_rating  lee_rating  eval_count  wish_count  cmt_count  run_time  year  \\\n",
       "0     4.22683           4       13025        9796       2585       128  2015   \n",
       "1     2.99629           3       58122        3166        965       121  2013   \n",
       "\n",
       "   star0.5  star1  star1.5  star2  star2.5  star3  star3.5  star4  star4.5  \\\n",
       "0        7     10       14     83       50   1472      454   4509     4318   \n",
       "1     1312   2238     2150   6749     6597   9397    16842   1367     9011   \n",
       "\n",
       "   star5  \n",
       "0   2108  \n",
       "1   2459  "
      ]
     },
     "execution_count": 2,
     "metadata": {},
     "output_type": "execute_result"
    }
   ],
   "source": [
    "df = pd.read_csv('../resource/final_df1.csv')\n",
    "y = df['rating(y)'].values\n",
    "real_X = df.ix[:,'avg_rating':'star5']\n",
    "cat_X = df.ix[:,'0':]\n",
    "real_X.head(2)"
   ]
  },
  {
   "cell_type": "markdown",
   "metadata": {},
   "source": [
    "### StratifiedKFold (n_folds = 3)"
   ]
  },
  {
   "cell_type": "code",
   "execution_count": 3,
   "metadata": {
    "collapsed": true
   },
   "outputs": [],
   "source": [
    "from sklearn.cross_validation import KFold, StratifiedKFold\n",
    "from sklearn.naive_bayes import GaussianNB\n",
    "from sklearn.metrics import mean_absolute_error\n",
    "import itertools\n",
    "\n",
    "gnb = GaussianNB()\n",
    "cv = StratifiedKFold(y, n_folds=3, random_state=0)"
   ]
  },
  {
   "cell_type": "markdown",
   "metadata": {},
   "source": [
    "### 0. 모든피쳐 사용했을때"
   ]
  },
  {
   "cell_type": "code",
   "execution_count": 4,
   "metadata": {
    "collapsed": false
   },
   "outputs": [
    {
     "name": "stdout",
     "output_type": "stream",
     "text": [
      "mean: 0.9482     [ 0.93442623  1.02197802  0.88826816]\n"
     ]
    }
   ],
   "source": [
    "scores = np.zeros(3)\n",
    "for i, (train_idx, test_idx) in enumerate(cv):\n",
    "    X_train = real_X.ix[train_idx]\n",
    "    y_train = y[train_idx]\n",
    "    X_test = real_X.ix[test_idx]\n",
    "    y_test = y[test_idx]\n",
    "    \n",
    "    gnb.fit(X_train, y_train)\n",
    "    y_pred = gnb.predict(X_test)\n",
    "    \n",
    "    scores[i] = mean_absolute_error(y_test, y_pred)\n",
    "\n",
    "#scores\n",
    "print('mean:', round(np.mean(scores), 4), '   ', scores)"
   ]
  },
  {
   "cell_type": "markdown",
   "metadata": {},
   "source": [
    "### 1. 피쳐 한개씩 사용했을때(combi 1)\n",
    "* idx = 0, 16, 5, 12, 6, 7 .. 순으로 score 좋음"
   ]
  },
  {
   "cell_type": "code",
   "execution_count": 5,
   "metadata": {
    "collapsed": false
   },
   "outputs": [],
   "source": [
    "combi_df1 = pd.DataFrame(columns=['combi', 'mean', 'scores'])\n",
    "\n",
    "for c in range(17):\n",
    "    new_X = real_X[[c]]\n",
    "    \n",
    "    scores = np.zeros(3)\n",
    "    for i, (train_idx, test_idx) in enumerate(cv):\n",
    "        X_train = new_X.ix[train_idx]\n",
    "        y_train = y[train_idx]\n",
    "        X_test = new_X.ix[test_idx]\n",
    "        y_test = y[test_idx]\n",
    "    \n",
    "        gnb.fit(X_train, y_train)\n",
    "        y_pred = gnb.predict(X_test)\n",
    "    \n",
    "        scores[i] = mean_absolute_error(y_test, y_pred)\n",
    "\n",
    "    scores\n",
    "    combi_df1.loc[len(combi_df1)] = [c, round(np.mean(scores), 4), scores]\n",
    "    #print(c, 'mean:', round(np.mean(scores), 4), '   ', scores)"
   ]
  },
  {
   "cell_type": "code",
   "execution_count": 6,
   "metadata": {
    "collapsed": false
   },
   "outputs": [
    {
     "name": "stdout",
     "output_type": "stream",
     "text": [
      "17\n"
     ]
    },
    {
     "data": {
      "text/html": [
       "<div>\n",
       "<table border=\"1\" class=\"dataframe\">\n",
       "  <thead>\n",
       "    <tr style=\"text-align: right;\">\n",
       "      <th></th>\n",
       "      <th>combi</th>\n",
       "      <th>mean</th>\n",
       "      <th>scores</th>\n",
       "    </tr>\n",
       "  </thead>\n",
       "  <tbody>\n",
       "    <tr>\n",
       "      <th>0</th>\n",
       "      <td>0</td>\n",
       "      <td>0.6374</td>\n",
       "      <td>[0.655737704918, 0.692307692308, 0.564245810056]</td>\n",
       "    </tr>\n",
       "    <tr>\n",
       "      <th>16</th>\n",
       "      <td>16</td>\n",
       "      <td>0.7811</td>\n",
       "      <td>[0.819672131148, 0.758241758242, 0.765363128492]</td>\n",
       "    </tr>\n",
       "    <tr>\n",
       "      <th>5</th>\n",
       "      <td>5</td>\n",
       "      <td>0.7867</td>\n",
       "      <td>[0.814207650273, 0.763736263736, 0.782122905028]</td>\n",
       "    </tr>\n",
       "    <tr>\n",
       "      <th>12</th>\n",
       "      <td>12</td>\n",
       "      <td>0.8308</td>\n",
       "      <td>[0.83606557377, 0.840659340659, 0.815642458101]</td>\n",
       "    </tr>\n",
       "    <tr>\n",
       "      <th>6</th>\n",
       "      <td>6</td>\n",
       "      <td>0.8310</td>\n",
       "      <td>[0.825136612022, 0.818681318681, 0.849162011173]</td>\n",
       "    </tr>\n",
       "  </tbody>\n",
       "</table>\n",
       "</div>"
      ],
      "text/plain": [
       "    combi    mean                                            scores\n",
       "0       0  0.6374  [0.655737704918, 0.692307692308, 0.564245810056]\n",
       "16     16  0.7811  [0.819672131148, 0.758241758242, 0.765363128492]\n",
       "5       5  0.7867  [0.814207650273, 0.763736263736, 0.782122905028]\n",
       "12     12  0.8308   [0.83606557377, 0.840659340659, 0.815642458101]\n",
       "6       6  0.8310  [0.825136612022, 0.818681318681, 0.849162011173]"
      ]
     },
     "execution_count": 6,
     "metadata": {},
     "output_type": "execute_result"
    }
   ],
   "source": [
    "print(len(combi_df1))\n",
    "combi_df1.sort_values('mean', ascending=True).head(5)"
   ]
  },
  {
   "cell_type": "markdown",
   "metadata": {},
   "source": [
    "### 2. 피쳐 2개씩 사용했을때(combi 2)"
   ]
  },
  {
   "cell_type": "code",
   "execution_count": 7,
   "metadata": {
    "collapsed": true
   },
   "outputs": [],
   "source": [
    "combi_df2 = pd.DataFrame(columns=['combi', 'mean', 'scores'])\n",
    "\n",
    "idx_list = list(itertools.combinations(range(17), 2))\n",
    "for idx in idx_list:\n",
    "    new_X = real_X[list(idx)]\n",
    "    \n",
    "    scores = np.zeros(3)\n",
    "    for i, (train_idx, test_idx) in enumerate(cv):\n",
    "        X_train = new_X.ix[train_idx]\n",
    "        y_train = y[train_idx]\n",
    "        X_test = new_X.ix[test_idx]\n",
    "        y_test = y[test_idx]\n",
    "    \n",
    "        gnb.fit(X_train, y_train)\n",
    "        y_pred = gnb.predict(X_test)\n",
    "    \n",
    "        scores[i] = mean_absolute_error(y_test, y_pred)\n",
    "\n",
    "    scores\n",
    "    combi_df2.loc[len(combi_df2)] = [idx, round(np.mean(scores), 4), scores]\n",
    "    #print(idx, 'mean:', round(np.mean(scores), 4), '   ', scores)"
   ]
  },
  {
   "cell_type": "code",
   "execution_count": 8,
   "metadata": {
    "collapsed": false
   },
   "outputs": [
    {
     "name": "stdout",
     "output_type": "stream",
     "text": [
      "136\n"
     ]
    },
    {
     "data": {
      "text/html": [
       "<div>\n",
       "<table border=\"1\" class=\"dataframe\">\n",
       "  <thead>\n",
       "    <tr style=\"text-align: right;\">\n",
       "      <th></th>\n",
       "      <th>combi</th>\n",
       "      <th>mean</th>\n",
       "      <th>scores</th>\n",
       "    </tr>\n",
       "  </thead>\n",
       "  <tbody>\n",
       "    <tr>\n",
       "      <th>4</th>\n",
       "      <td>(0, 5)</td>\n",
       "      <td>0.6541</td>\n",
       "      <td>[0.661202185792, 0.708791208791, 0.59217877095]</td>\n",
       "    </tr>\n",
       "    <tr>\n",
       "      <th>5</th>\n",
       "      <td>(0, 6)</td>\n",
       "      <td>0.6559</td>\n",
       "      <td>[0.661202185792, 0.708791208791, 0.597765363128]</td>\n",
       "    </tr>\n",
       "    <tr>\n",
       "      <th>13</th>\n",
       "      <td>(0, 14)</td>\n",
       "      <td>0.6592</td>\n",
       "      <td>[0.693989071038, 0.741758241758, 0.541899441341]</td>\n",
       "    </tr>\n",
       "    <tr>\n",
       "      <th>0</th>\n",
       "      <td>(0, 1)</td>\n",
       "      <td>0.6913</td>\n",
       "      <td>[0.628415300546, 0.752747252747, 0.692737430168]</td>\n",
       "    </tr>\n",
       "    <tr>\n",
       "      <th>8</th>\n",
       "      <td>(0, 9)</td>\n",
       "      <td>0.7007</td>\n",
       "      <td>[0.655737704918, 0.708791208791, 0.737430167598]</td>\n",
       "    </tr>\n",
       "  </tbody>\n",
       "</table>\n",
       "</div>"
      ],
      "text/plain": [
       "      combi    mean                                            scores\n",
       "4    (0, 5)  0.6541   [0.661202185792, 0.708791208791, 0.59217877095]\n",
       "5    (0, 6)  0.6559  [0.661202185792, 0.708791208791, 0.597765363128]\n",
       "13  (0, 14)  0.6592  [0.693989071038, 0.741758241758, 0.541899441341]\n",
       "0    (0, 1)  0.6913  [0.628415300546, 0.752747252747, 0.692737430168]\n",
       "8    (0, 9)  0.7007  [0.655737704918, 0.708791208791, 0.737430167598]"
      ]
     },
     "execution_count": 8,
     "metadata": {},
     "output_type": "execute_result"
    }
   ],
   "source": [
    "print(len(combi_df2))\n",
    "combi_df2.sort_values('mean', ascending=True).head(5)"
   ]
  },
  {
   "cell_type": "markdown",
   "metadata": {},
   "source": [
    "### 3. 피쳐 3개씩 사용했을때(combi 3)"
   ]
  },
  {
   "cell_type": "code",
   "execution_count": 9,
   "metadata": {
    "collapsed": false
   },
   "outputs": [],
   "source": [
    "combi_df3 = pd.DataFrame(columns=['combi', 'mean', 'scores'])\n",
    "\n",
    "idx_list = list(itertools.combinations(range(17), 3))\n",
    "for idx in idx_list:\n",
    "    new_X = real_X[list(idx)]\n",
    "    \n",
    "    scores = np.zeros(3)\n",
    "    for i, (train_idx, test_idx) in enumerate(cv):\n",
    "        X_train = new_X.ix[train_idx]\n",
    "        y_train = y[train_idx]\n",
    "        X_test = new_X.ix[test_idx]\n",
    "        y_test = y[test_idx]\n",
    "    \n",
    "        gnb.fit(X_train, y_train)\n",
    "        y_pred = gnb.predict(X_test)\n",
    "    \n",
    "        scores[i] = mean_absolute_error(y_test, y_pred)\n",
    "\n",
    "    scores\n",
    "    combi_df3.loc[len(combi_df3)] = [idx, round(np.mean(scores), 4), scores]\n",
    "    #print(idx, 'mean:', round(np.mean(scores), 4), '   ', scores)"
   ]
  },
  {
   "cell_type": "code",
   "execution_count": 10,
   "metadata": {
    "collapsed": false
   },
   "outputs": [
    {
     "name": "stdout",
     "output_type": "stream",
     "text": [
      "680\n"
     ]
    },
    {
     "data": {
      "text/html": [
       "<div>\n",
       "<table border=\"1\" class=\"dataframe\">\n",
       "  <thead>\n",
       "    <tr style=\"text-align: right;\">\n",
       "      <th></th>\n",
       "      <th>combi</th>\n",
       "      <th>mean</th>\n",
       "      <th>scores</th>\n",
       "    </tr>\n",
       "  </thead>\n",
       "  <tbody>\n",
       "    <tr>\n",
       "      <th>54</th>\n",
       "      <td>(0, 5, 6)</td>\n",
       "      <td>0.6633</td>\n",
       "      <td>[0.666666666667, 0.708791208791, 0.614525139665]</td>\n",
       "    </tr>\n",
       "    <tr>\n",
       "      <th>12</th>\n",
       "      <td>(0, 1, 14)</td>\n",
       "      <td>0.6666</td>\n",
       "      <td>[0.715846994536, 0.730769230769, 0.553072625698]</td>\n",
       "    </tr>\n",
       "    <tr>\n",
       "      <th>96</th>\n",
       "      <td>(0, 9, 14)</td>\n",
       "      <td>0.6708</td>\n",
       "      <td>[0.661202185792, 0.703296703297, 0.648044692737]</td>\n",
       "    </tr>\n",
       "    <tr>\n",
       "      <th>57</th>\n",
       "      <td>(0, 5, 9)</td>\n",
       "      <td>0.6858</td>\n",
       "      <td>[0.655737704918, 0.703296703297, 0.698324022346]</td>\n",
       "    </tr>\n",
       "    <tr>\n",
       "      <th>102</th>\n",
       "      <td>(0, 10, 14)</td>\n",
       "      <td>0.6869</td>\n",
       "      <td>[0.754098360656, 0.697802197802, 0.608938547486]</td>\n",
       "    </tr>\n",
       "  </tbody>\n",
       "</table>\n",
       "</div>"
      ],
      "text/plain": [
       "           combi    mean                                            scores\n",
       "54     (0, 5, 6)  0.6633  [0.666666666667, 0.708791208791, 0.614525139665]\n",
       "12    (0, 1, 14)  0.6666  [0.715846994536, 0.730769230769, 0.553072625698]\n",
       "96    (0, 9, 14)  0.6708  [0.661202185792, 0.703296703297, 0.648044692737]\n",
       "57     (0, 5, 9)  0.6858  [0.655737704918, 0.703296703297, 0.698324022346]\n",
       "102  (0, 10, 14)  0.6869  [0.754098360656, 0.697802197802, 0.608938547486]"
      ]
     },
     "execution_count": 10,
     "metadata": {},
     "output_type": "execute_result"
    }
   ],
   "source": [
    "print(len(combi_df3))\n",
    "combi_df3.sort_values('mean').head(5)"
   ]
  },
  {
   "cell_type": "code",
   "execution_count": 11,
   "metadata": {
    "collapsed": false
   },
   "outputs": [
    {
     "name": "stdout",
     "output_type": "stream",
     "text": [
      "mean: 0.6666     [ 0.71584699  0.73076923  0.55307263]\n"
     ]
    }
   ],
   "source": [
    "## 이것저것 3개 해봤을때 제일 좋은 스코어\n",
    "## 휴리스틱하게 찾았을때 최적 스코어였으나 combi로 찾으니 2번째 순위의 조합이였음\n",
    "gnb = GaussianNB()\n",
    "new_X = real_X[[0, 1, 14,  ]]\n",
    "\n",
    "\n",
    "for i, (train_idx, test_idx) in enumerate(cv):\n",
    "    X_train = new_X.ix[train_idx]\n",
    "    y_train = y[train_idx]\n",
    "    X_test = new_X.ix[test_idx]\n",
    "    y_test = y[test_idx]\n",
    "    \n",
    "    gnb.fit(X_train, y_train)\n",
    "    y_pred = gnb.predict(X_test)\n",
    "    \n",
    "    scores[i] = mean_absolute_error(y_test, y_pred)\n",
    "\n",
    "scores\n",
    "print('mean:', round(np.mean(scores), 4), '   ', scores)"
   ]
  },
  {
   "cell_type": "markdown",
   "metadata": {},
   "source": [
    "### 3-1. 상위 3개 피쳐(avg_rating, star5, run_time)으로만 했을때 스코어 낮게나왔음"
   ]
  },
  {
   "cell_type": "code",
   "execution_count": 12,
   "metadata": {
    "collapsed": false
   },
   "outputs": [
    {
     "name": "stdout",
     "output_type": "stream",
     "text": [
      "mean: 0.9109     [ 0.98360656  0.97802198  0.77094972]\n"
     ]
    }
   ],
   "source": [
    "gnb = GaussianNB()\n",
    "new_X = real_X[[0, 16, 5]]\n",
    "\n",
    "\n",
    "for i, (train_idx, test_idx) in enumerate(cv):\n",
    "    X_train = new_X.ix[train_idx]\n",
    "    y_train = y[train_idx]\n",
    "    X_test = new_X.ix[test_idx]\n",
    "    y_test = y[test_idx]\n",
    "    \n",
    "    gnb.fit(X_train, y_train)\n",
    "    y_pred = gnb.predict(X_test)\n",
    "    \n",
    "    scores[i] = mean_absolute_error(y_test, y_pred)\n",
    "\n",
    "scores\n",
    "print('mean:', round(np.mean(scores), 4), '   ', scores)"
   ]
  },
  {
   "cell_type": "markdown",
   "metadata": {},
   "source": [
    "### 4. 피쳐 4개씩 사용했을때(combi 4)"
   ]
  },
  {
   "cell_type": "code",
   "execution_count": 13,
   "metadata": {
    "collapsed": true
   },
   "outputs": [],
   "source": [
    "combi_df4 = pd.DataFrame(columns=['combi', 'mean', 'scores'])\n",
    "\n",
    "idx_list = list(itertools.combinations(range(17), 4))\n",
    "for idx in idx_list:\n",
    "    new_X = real_X[list(idx)]\n",
    "    \n",
    "    scores = np.zeros(3)\n",
    "    for i, (train_idx, test_idx) in enumerate(cv):\n",
    "        X_train = new_X.ix[train_idx]\n",
    "        y_train = y[train_idx]\n",
    "        X_test = new_X.ix[test_idx]\n",
    "        y_test = y[test_idx]\n",
    "    \n",
    "        gnb.fit(X_train, y_train)\n",
    "        y_pred = gnb.predict(X_test)\n",
    "    \n",
    "        scores[i] = mean_absolute_error(y_test, y_pred)\n",
    "\n",
    "    scores\n",
    "    combi_df4.loc[len(combi_df4)] = [idx, round(np.mean(scores), 4), scores]"
   ]
  },
  {
   "cell_type": "code",
   "execution_count": 14,
   "metadata": {
    "collapsed": false
   },
   "outputs": [
    {
     "name": "stdout",
     "output_type": "stream",
     "text": [
      "2380\n"
     ]
    },
    {
     "data": {
      "text/html": [
       "<div>\n",
       "<table border=\"1\" class=\"dataframe\">\n",
       "  <thead>\n",
       "    <tr style=\"text-align: right;\">\n",
       "      <th></th>\n",
       "      <th>combi</th>\n",
       "      <th>mean</th>\n",
       "      <th>scores</th>\n",
       "    </tr>\n",
       "  </thead>\n",
       "  <tbody>\n",
       "    <tr>\n",
       "      <th>371</th>\n",
       "      <td>(0, 5, 9, 14)</td>\n",
       "      <td>0.6707</td>\n",
       "      <td>[0.672131147541, 0.714285714286, 0.625698324022]</td>\n",
       "    </tr>\n",
       "    <tr>\n",
       "      <th>416</th>\n",
       "      <td>(0, 6, 9, 14)</td>\n",
       "      <td>0.6709</td>\n",
       "      <td>[0.650273224044, 0.703296703297, 0.659217877095]</td>\n",
       "    </tr>\n",
       "    <tr>\n",
       "      <th>401</th>\n",
       "      <td>(0, 6, 7, 14)</td>\n",
       "      <td>0.6744</td>\n",
       "      <td>[0.688524590164, 0.697802197802, 0.63687150838]</td>\n",
       "    </tr>\n",
       "    <tr>\n",
       "      <th>66</th>\n",
       "      <td>(0, 1, 7, 14)</td>\n",
       "      <td>0.6814</td>\n",
       "      <td>[0.710382513661, 0.741758241758, 0.59217877095]</td>\n",
       "    </tr>\n",
       "    <tr>\n",
       "      <th>356</th>\n",
       "      <td>(0, 5, 7, 14)</td>\n",
       "      <td>0.6854</td>\n",
       "      <td>[0.704918032787, 0.714285714286, 0.63687150838]</td>\n",
       "    </tr>\n",
       "  </tbody>\n",
       "</table>\n",
       "</div>"
      ],
      "text/plain": [
       "             combi    mean                                            scores\n",
       "371  (0, 5, 9, 14)  0.6707  [0.672131147541, 0.714285714286, 0.625698324022]\n",
       "416  (0, 6, 9, 14)  0.6709  [0.650273224044, 0.703296703297, 0.659217877095]\n",
       "401  (0, 6, 7, 14)  0.6744   [0.688524590164, 0.697802197802, 0.63687150838]\n",
       "66   (0, 1, 7, 14)  0.6814   [0.710382513661, 0.741758241758, 0.59217877095]\n",
       "356  (0, 5, 7, 14)  0.6854   [0.704918032787, 0.714285714286, 0.63687150838]"
      ]
     },
     "execution_count": 14,
     "metadata": {},
     "output_type": "execute_result"
    }
   ],
   "source": [
    "print(len(combi_df4))\n",
    "combi_df4.sort_values('mean').head(5)"
   ]
  },
  {
   "cell_type": "markdown",
   "metadata": {},
   "source": [
    "### 5. 피쳐 5개씩 사용시(combi 5)"
   ]
  },
  {
   "cell_type": "code",
   "execution_count": 15,
   "metadata": {
    "collapsed": true
   },
   "outputs": [],
   "source": [
    "combi_df5 = pd.DataFrame(columns=['combi', 'mean', 'scores'])\n",
    "\n",
    "idx_list = list(itertools.combinations(range(17), 5))\n",
    "for idx in idx_list:\n",
    "    new_X = real_X[list(idx)]\n",
    "    \n",
    "    scores = np.zeros(3)\n",
    "    for i, (train_idx, test_idx) in enumerate(cv):\n",
    "        X_train = new_X.ix[train_idx]\n",
    "        y_train = y[train_idx]\n",
    "        X_test = new_X.ix[test_idx]\n",
    "        y_test = y[test_idx]\n",
    "    \n",
    "        gnb.fit(X_train, y_train)\n",
    "        y_pred = gnb.predict(X_test)\n",
    "    \n",
    "        scores[i] = mean_absolute_error(y_test, y_pred)\n",
    "\n",
    "    scores\n",
    "    combi_df5.loc[len(combi_df5)] = [idx, round(np.mean(scores), 4), scores]"
   ]
  },
  {
   "cell_type": "code",
   "execution_count": 16,
   "metadata": {
    "collapsed": false
   },
   "outputs": [
    {
     "name": "stdout",
     "output_type": "stream",
     "text": [
      "6188\n"
     ]
    },
    {
     "data": {
      "text/html": [
       "<div>\n",
       "<table border=\"1\" class=\"dataframe\">\n",
       "  <thead>\n",
       "    <tr style=\"text-align: right;\">\n",
       "      <th></th>\n",
       "      <th>combi</th>\n",
       "      <th>mean</th>\n",
       "      <th>scores</th>\n",
       "    </tr>\n",
       "  </thead>\n",
       "  <tbody>\n",
       "    <tr>\n",
       "      <th>266</th>\n",
       "      <td>(0, 1, 5, 9, 14)</td>\n",
       "      <td>0.6745</td>\n",
       "      <td>[0.666666666667, 0.714285714286, 0.642458100559]</td>\n",
       "    </tr>\n",
       "    <tr>\n",
       "      <th>1346</th>\n",
       "      <td>(0, 5, 6, 9, 14)</td>\n",
       "      <td>0.6782</td>\n",
       "      <td>[0.688524590164, 0.692307692308, 0.653631284916]</td>\n",
       "    </tr>\n",
       "    <tr>\n",
       "      <th>251</th>\n",
       "      <td>(0, 1, 5, 7, 14)</td>\n",
       "      <td>0.6834</td>\n",
       "      <td>[0.704918032787, 0.730769230769, 0.614525139665]</td>\n",
       "    </tr>\n",
       "    <tr>\n",
       "      <th>1331</th>\n",
       "      <td>(0, 5, 6, 7, 14)</td>\n",
       "      <td>0.6835</td>\n",
       "      <td>[0.693989071038, 0.730769230769, 0.625698324022]</td>\n",
       "    </tr>\n",
       "    <tr>\n",
       "      <th>296</th>\n",
       "      <td>(0, 1, 6, 7, 14)</td>\n",
       "      <td>0.6871</td>\n",
       "      <td>[0.704918032787, 0.736263736264, 0.620111731844]</td>\n",
       "    </tr>\n",
       "  </tbody>\n",
       "</table>\n",
       "</div>"
      ],
      "text/plain": [
       "                 combi    mean  \\\n",
       "266   (0, 1, 5, 9, 14)  0.6745   \n",
       "1346  (0, 5, 6, 9, 14)  0.6782   \n",
       "251   (0, 1, 5, 7, 14)  0.6834   \n",
       "1331  (0, 5, 6, 7, 14)  0.6835   \n",
       "296   (0, 1, 6, 7, 14)  0.6871   \n",
       "\n",
       "                                                scores  \n",
       "266   [0.666666666667, 0.714285714286, 0.642458100559]  \n",
       "1346  [0.688524590164, 0.692307692308, 0.653631284916]  \n",
       "251   [0.704918032787, 0.730769230769, 0.614525139665]  \n",
       "1331  [0.693989071038, 0.730769230769, 0.625698324022]  \n",
       "296   [0.704918032787, 0.736263736264, 0.620111731844]  "
      ]
     },
     "execution_count": 16,
     "metadata": {},
     "output_type": "execute_result"
    }
   ],
   "source": [
    "print(len(combi_df5))\n",
    "combi_df5.sort_values('mean').head(5)"
   ]
  },
  {
   "cell_type": "markdown",
   "metadata": {},
   "source": [
    "### 6. 피쳐 6개씩 사용시(combi 6)"
   ]
  },
  {
   "cell_type": "code",
   "execution_count": 17,
   "metadata": {
    "collapsed": true
   },
   "outputs": [],
   "source": [
    "combi_df6 = pd.DataFrame(columns=['combi', 'mean', 'scores'])\n",
    "\n",
    "idx_list = list(itertools.combinations(range(17), 6))\n",
    "for idx in idx_list:\n",
    "    new_X = real_X[list(idx)]\n",
    "    \n",
    "    scores = np.zeros(3)\n",
    "    for i, (train_idx, test_idx) in enumerate(cv):\n",
    "        X_train = new_X.ix[train_idx]\n",
    "        y_train = y[train_idx]\n",
    "        X_test = new_X.ix[test_idx]\n",
    "        y_test = y[test_idx]\n",
    "    \n",
    "        gnb.fit(X_train, y_train)\n",
    "        y_pred = gnb.predict(X_test)\n",
    "    \n",
    "        scores[i] = mean_absolute_error(y_test, y_pred)\n",
    "\n",
    "    scores\n",
    "    combi_df6.loc[len(combi_df6)] = [idx, round(np.mean(scores), 4), scores]"
   ]
  },
  {
   "cell_type": "code",
   "execution_count": 18,
   "metadata": {
    "collapsed": false
   },
   "outputs": [
    {
     "name": "stdout",
     "output_type": "stream",
     "text": [
      "12376\n"
     ]
    },
    {
     "data": {
      "text/html": [
       "<div>\n",
       "<table border=\"1\" class=\"dataframe\">\n",
       "  <thead>\n",
       "    <tr style=\"text-align: right;\">\n",
       "      <th></th>\n",
       "      <th>combi</th>\n",
       "      <th>mean</th>\n",
       "      <th>scores</th>\n",
       "    </tr>\n",
       "  </thead>\n",
       "  <tbody>\n",
       "    <tr>\n",
       "      <th>876</th>\n",
       "      <td>(0, 1, 5, 6, 7, 14)</td>\n",
       "      <td>0.6798</td>\n",
       "      <td>[0.68306010929, 0.736263736264, 0.620111731844]</td>\n",
       "    </tr>\n",
       "    <tr>\n",
       "      <th>891</th>\n",
       "      <td>(0, 1, 5, 6, 9, 14)</td>\n",
       "      <td>0.6821</td>\n",
       "      <td>[0.644808743169, 0.714285714286, 0.687150837989]</td>\n",
       "    </tr>\n",
       "    <tr>\n",
       "      <th>991</th>\n",
       "      <td>(0, 1, 5, 9, 12, 14)</td>\n",
       "      <td>0.6853</td>\n",
       "      <td>[0.693989071038, 0.747252747253, 0.614525139665]</td>\n",
       "    </tr>\n",
       "    <tr>\n",
       "      <th>994</th>\n",
       "      <td>(0, 1, 5, 9, 13, 14)</td>\n",
       "      <td>0.6948</td>\n",
       "      <td>[0.710382513661, 0.686813186813, 0.687150837989]</td>\n",
       "    </tr>\n",
       "    <tr>\n",
       "      <th>1062</th>\n",
       "      <td>(0, 1, 6, 7, 12, 14)</td>\n",
       "      <td>0.6978</td>\n",
       "      <td>[0.754098360656, 0.747252747253, 0.59217877095]</td>\n",
       "    </tr>\n",
       "  </tbody>\n",
       "</table>\n",
       "</div>"
      ],
      "text/plain": [
       "                     combi    mean  \\\n",
       "876    (0, 1, 5, 6, 7, 14)  0.6798   \n",
       "891    (0, 1, 5, 6, 9, 14)  0.6821   \n",
       "991   (0, 1, 5, 9, 12, 14)  0.6853   \n",
       "994   (0, 1, 5, 9, 13, 14)  0.6948   \n",
       "1062  (0, 1, 6, 7, 12, 14)  0.6978   \n",
       "\n",
       "                                                scores  \n",
       "876    [0.68306010929, 0.736263736264, 0.620111731844]  \n",
       "891   [0.644808743169, 0.714285714286, 0.687150837989]  \n",
       "991   [0.693989071038, 0.747252747253, 0.614525139665]  \n",
       "994   [0.710382513661, 0.686813186813, 0.687150837989]  \n",
       "1062   [0.754098360656, 0.747252747253, 0.59217877095]  "
      ]
     },
     "execution_count": 18,
     "metadata": {},
     "output_type": "execute_result"
    }
   ],
   "source": [
    "print(len(combi_df6))\n",
    "combi_df6.sort_values('mean').head(5)"
   ]
  },
  {
   "cell_type": "markdown",
   "metadata": {
    "collapsed": true
   },
   "source": [
    "### 7. 피쳐 7개씩 사용시(combi 7)"
   ]
  },
  {
   "cell_type": "code",
   "execution_count": null,
   "metadata": {
    "collapsed": true
   },
   "outputs": [],
   "source": [
    "combi_df7 = pd.DataFrame(columns=['combi', 'mean', 'scores'])\n",
    "\n",
    "idx_list = list(itertools.combinations(range(17), 7))\n",
    "for idx in idx_list:\n",
    "    new_X = real_X[list(idx)]\n",
    "    \n",
    "    scores = np.zeros(3)\n",
    "    for i, (train_idx, test_idx) in enumerate(cv):\n",
    "        X_train = new_X.ix[train_idx]\n",
    "        y_train = y[train_idx]\n",
    "        X_test = new_X.ix[test_idx]\n",
    "        y_test = y[test_idx]\n",
    "    \n",
    "        gnb.fit(X_train, y_train)\n",
    "        y_pred = gnb.predict(X_test)\n",
    "    \n",
    "        scores[i] = mean_absolute_error(y_test, y_pred)\n",
    "\n",
    "    scores\n",
    "    combi_df7.loc[len(combi_df7)] = [idx, round(np.mean(scores), 4), scores]"
   ]
  },
  {
   "cell_type": "code",
   "execution_count": null,
   "metadata": {
    "collapsed": true
   },
   "outputs": [],
   "source": [
    "print(len(combi_df7))\n",
    "combi_df7.sort_values('mean').head(5)"
   ]
  },
  {
   "cell_type": "markdown",
   "metadata": {},
   "source": [
    "### 8. 피쳐 8개씩 사용시(combi 8)"
   ]
  },
  {
   "cell_type": "code",
   "execution_count": null,
   "metadata": {
    "collapsed": true
   },
   "outputs": [],
   "source": [
    "combi_df8 = pd.DataFrame(columns=['combi', 'mean', 'scores'])\n",
    "\n",
    "idx_list = list(itertools.combinations(range(17), 8))\n",
    "for idx in idx_list:\n",
    "    new_X = real_X[list(idx)]\n",
    "    \n",
    "    scores = np.zeros(3)\n",
    "    for i, (train_idx, test_idx) in enumerate(cv):\n",
    "        X_train = new_X.ix[train_idx]\n",
    "        y_train = y[train_idx]\n",
    "        X_test = new_X.ix[test_idx]\n",
    "        y_test = y[test_idx]\n",
    "    \n",
    "        gnb.fit(X_train, y_train)\n",
    "        y_pred = gnb.predict(X_test)\n",
    "    \n",
    "        scores[i] = mean_absolute_error(y_test, y_pred)\n",
    "\n",
    "    scores\n",
    "    combi_df8.loc[len(combi_df8)] = [idx, round(np.mean(scores), 4), scores]"
   ]
  },
  {
   "cell_type": "code",
   "execution_count": null,
   "metadata": {
    "collapsed": true
   },
   "outputs": [],
   "source": [
    "print(len(combi_df8))\n",
    "combi_df8.sort_values('mean').head(5)"
   ]
  },
  {
   "cell_type": "markdown",
   "metadata": {},
   "source": [
    "### 12. 피쳐 12개씩 사용했을때(combi 12)"
   ]
  },
  {
   "cell_type": "code",
   "execution_count": 19,
   "metadata": {
    "collapsed": true
   },
   "outputs": [],
   "source": [
    "combi_df12 = pd.DataFrame(columns=['combi', 'mean', 'scores'])\n",
    "\n",
    "idx_list = list(itertools.combinations(range(17), 12))\n",
    "for idx in idx_list:\n",
    "    new_X = real_X[list(idx)]\n",
    "    \n",
    "    scores = np.zeros(3)\n",
    "    for i, (train_idx, test_idx) in enumerate(cv):\n",
    "        X_train = new_X.ix[train_idx]\n",
    "        y_train = y[train_idx]\n",
    "        X_test = new_X.ix[test_idx]\n",
    "        y_test = y[test_idx]\n",
    "    \n",
    "        gnb.fit(X_train, y_train)\n",
    "        y_pred = gnb.predict(X_test)\n",
    "    \n",
    "        scores[i] = mean_absolute_error(y_test, y_pred)\n",
    "\n",
    "    scores\n",
    "    combi_df12.loc[len(combi_df12)] = [idx, round(np.mean(scores), 4), scores]"
   ]
  },
  {
   "cell_type": "code",
   "execution_count": 20,
   "metadata": {
    "collapsed": false
   },
   "outputs": [
    {
     "name": "stdout",
     "output_type": "stream",
     "text": [
      "6188\n"
     ]
    },
    {
     "data": {
      "text/html": [
       "<div>\n",
       "<table border=\"1\" class=\"dataframe\">\n",
       "  <thead>\n",
       "    <tr style=\"text-align: right;\">\n",
       "      <th></th>\n",
       "      <th>combi</th>\n",
       "      <th>mean</th>\n",
       "      <th>scores</th>\n",
       "    </tr>\n",
       "  </thead>\n",
       "  <tbody>\n",
       "    <tr>\n",
       "      <th>1813</th>\n",
       "      <td>(0, 1, 2, 5, 6, 7, 8, 9, 12, 13, 14, 16)</td>\n",
       "      <td>0.7687</td>\n",
       "      <td>[0.775956284153, 0.708791208791, 0.821229050279]</td>\n",
       "    </tr>\n",
       "    <tr>\n",
       "      <th>1854</th>\n",
       "      <td>(0, 1, 2, 5, 6, 7, 9, 11, 12, 13, 14, 16)</td>\n",
       "      <td>0.7745</td>\n",
       "      <td>[0.743169398907, 0.708791208791, 0.871508379888]</td>\n",
       "    </tr>\n",
       "    <tr>\n",
       "      <th>2948</th>\n",
       "      <td>(0, 1, 5, 6, 7, 8, 9, 10, 12, 13, 14, 16)</td>\n",
       "      <td>0.7759</td>\n",
       "      <td>[0.792349726776, 0.71978021978, 0.815642458101]</td>\n",
       "    </tr>\n",
       "    <tr>\n",
       "      <th>2965</th>\n",
       "      <td>(0, 1, 5, 6, 7, 9, 10, 11, 12, 13, 14, 15)</td>\n",
       "      <td>0.7760</td>\n",
       "      <td>[0.781420765027, 0.714285714286, 0.832402234637]</td>\n",
       "    </tr>\n",
       "    <tr>\n",
       "      <th>1930</th>\n",
       "      <td>(0, 1, 2, 5, 7, 9, 10, 11, 12, 13, 14, 15)</td>\n",
       "      <td>0.7778</td>\n",
       "      <td>[0.792349726776, 0.708791208791, 0.832402234637]</td>\n",
       "    </tr>\n",
       "  </tbody>\n",
       "</table>\n",
       "</div>"
      ],
      "text/plain": [
       "                                           combi    mean  \\\n",
       "1813    (0, 1, 2, 5, 6, 7, 8, 9, 12, 13, 14, 16)  0.7687   \n",
       "1854   (0, 1, 2, 5, 6, 7, 9, 11, 12, 13, 14, 16)  0.7745   \n",
       "2948   (0, 1, 5, 6, 7, 8, 9, 10, 12, 13, 14, 16)  0.7759   \n",
       "2965  (0, 1, 5, 6, 7, 9, 10, 11, 12, 13, 14, 15)  0.7760   \n",
       "1930  (0, 1, 2, 5, 7, 9, 10, 11, 12, 13, 14, 15)  0.7778   \n",
       "\n",
       "                                                scores  \n",
       "1813  [0.775956284153, 0.708791208791, 0.821229050279]  \n",
       "1854  [0.743169398907, 0.708791208791, 0.871508379888]  \n",
       "2948   [0.792349726776, 0.71978021978, 0.815642458101]  \n",
       "2965  [0.781420765027, 0.714285714286, 0.832402234637]  \n",
       "1930  [0.792349726776, 0.708791208791, 0.832402234637]  "
      ]
     },
     "execution_count": 20,
     "metadata": {},
     "output_type": "execute_result"
    }
   ],
   "source": [
    "print(len(combi_df12))\n",
    "combi_df12.sort_values('mean').head(5)"
   ]
  },
  {
   "cell_type": "markdown",
   "metadata": {},
   "source": [
    "### 13. 피쳐 13개씩 사용했을때(combi 13)"
   ]
  },
  {
   "cell_type": "code",
   "execution_count": 21,
   "metadata": {
    "collapsed": true
   },
   "outputs": [],
   "source": [
    "combi_df13 = pd.DataFrame(columns=['combi', 'mean', 'scores'])\n",
    "\n",
    "idx_list = list(itertools.combinations(range(17), 13))\n",
    "for idx in idx_list:\n",
    "    new_X = real_X[list(idx)]\n",
    "    \n",
    "    scores = np.zeros(3)\n",
    "    for i, (train_idx, test_idx) in enumerate(cv):\n",
    "        X_train = new_X.ix[train_idx]\n",
    "        y_train = y[train_idx]\n",
    "        X_test = new_X.ix[test_idx]\n",
    "        y_test = y[test_idx]\n",
    "    \n",
    "        gnb.fit(X_train, y_train)\n",
    "        y_pred = gnb.predict(X_test)\n",
    "    \n",
    "        scores[i] = mean_absolute_error(y_test, y_pred)\n",
    "\n",
    "    scores\n",
    "    combi_df13.loc[len(combi_df13)] = [idx, round(np.mean(scores), 4), scores]"
   ]
  },
  {
   "cell_type": "code",
   "execution_count": 22,
   "metadata": {
    "collapsed": false
   },
   "outputs": [
    {
     "name": "stdout",
     "output_type": "stream",
     "text": [
      "2380\n"
     ]
    },
    {
     "data": {
      "text/html": [
       "<div>\n",
       "<table border=\"1\" class=\"dataframe\">\n",
       "  <thead>\n",
       "    <tr style=\"text-align: right;\">\n",
       "      <th></th>\n",
       "      <th>combi</th>\n",
       "      <th>mean</th>\n",
       "      <th>scores</th>\n",
       "    </tr>\n",
       "  </thead>\n",
       "  <tbody>\n",
       "    <tr>\n",
       "      <th>963</th>\n",
       "      <td>(0, 1, 2, 5, 6, 7, 9, 10, 11, 12, 13, 14, 15)</td>\n",
       "      <td>0.7799</td>\n",
       "      <td>[0.770491803279, 0.697802197802, 0.871508379888]</td>\n",
       "    </tr>\n",
       "    <tr>\n",
       "      <th>939</th>\n",
       "      <td>(0, 1, 2, 5, 6, 7, 8, 9, 10, 11, 12, 14, 16)</td>\n",
       "      <td>0.7833</td>\n",
       "      <td>[0.803278688525, 0.725274725275, 0.821229050279]</td>\n",
       "    </tr>\n",
       "    <tr>\n",
       "      <th>946</th>\n",
       "      <td>(0, 1, 2, 5, 6, 7, 8, 9, 10, 12, 13, 14, 16)</td>\n",
       "      <td>0.7834</td>\n",
       "      <td>[0.803278688525, 0.708791208791, 0.837988826816]</td>\n",
       "    </tr>\n",
       "    <tr>\n",
       "      <th>945</th>\n",
       "      <td>(0, 1, 2, 5, 6, 7, 8, 9, 10, 12, 13, 14, 15)</td>\n",
       "      <td>0.7869</td>\n",
       "      <td>[0.814207650273, 0.71978021978, 0.826815642458]</td>\n",
       "    </tr>\n",
       "    <tr>\n",
       "      <th>1361</th>\n",
       "      <td>(0, 1, 5, 6, 7, 9, 10, 11, 12, 13, 14, 15, 16)</td>\n",
       "      <td>0.7873</td>\n",
       "      <td>[0.770491803279, 0.708791208791, 0.882681564246]</td>\n",
       "    </tr>\n",
       "  </tbody>\n",
       "</table>\n",
       "</div>"
      ],
      "text/plain": [
       "                                               combi    mean  \\\n",
       "963    (0, 1, 2, 5, 6, 7, 9, 10, 11, 12, 13, 14, 15)  0.7799   \n",
       "939     (0, 1, 2, 5, 6, 7, 8, 9, 10, 11, 12, 14, 16)  0.7833   \n",
       "946     (0, 1, 2, 5, 6, 7, 8, 9, 10, 12, 13, 14, 16)  0.7834   \n",
       "945     (0, 1, 2, 5, 6, 7, 8, 9, 10, 12, 13, 14, 15)  0.7869   \n",
       "1361  (0, 1, 5, 6, 7, 9, 10, 11, 12, 13, 14, 15, 16)  0.7873   \n",
       "\n",
       "                                                scores  \n",
       "963   [0.770491803279, 0.697802197802, 0.871508379888]  \n",
       "939   [0.803278688525, 0.725274725275, 0.821229050279]  \n",
       "946   [0.803278688525, 0.708791208791, 0.837988826816]  \n",
       "945    [0.814207650273, 0.71978021978, 0.826815642458]  \n",
       "1361  [0.770491803279, 0.708791208791, 0.882681564246]  "
      ]
     },
     "execution_count": 22,
     "metadata": {},
     "output_type": "execute_result"
    }
   ],
   "source": [
    "print(len(combi_df13))\n",
    "combi_df13.sort_values('mean').head(5)"
   ]
  }
 ],
 "metadata": {
  "kernelspec": {
   "display_name": "Python 2",
   "language": "python",
   "name": "python2"
  },
  "language_info": {
   "codemirror_mode": {
    "name": "ipython",
    "version": 2
   },
   "file_extension": ".py",
   "mimetype": "text/x-python",
   "name": "python",
   "nbconvert_exporter": "python",
   "pygments_lexer": "ipython2",
   "version": "2.7.11"
  }
 },
 "nbformat": 4,
 "nbformat_minor": 0
}
